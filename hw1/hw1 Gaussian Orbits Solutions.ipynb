{
 "cells": [
  {
   "cell_type": "markdown",
   "metadata": {},
   "source": [
    "# Linear Regression - Gaussian Orbits\n",
    "\n",
    "Imports needed in this notebook: `numpy` (as np), `matplotlib.pyplot` (as plt), from sklearn: `LinearRegression`, `ElasticNet`, and `mean_squared_error`. Search up documentation if you have issues with any of the scikit learn things. This first part will be a warmup with numpy, linear regression, and scikit learn."
   ]
  },
  {
   "cell_type": "code",
   "execution_count": 1,
   "metadata": {},
   "outputs": [],
   "source": [
    "### YOUR IMPORT CODE HERE\n",
    "import numpy as np\n",
    "import matplotlib.pyplot as plt\n",
    "from sklearn.linear_model import LinearRegression, ElasticNet \n",
    "from sklearn.metrics import mean_squared_error"
   ]
  },
  {
   "cell_type": "markdown",
   "metadata": {},
   "source": [
    "First, we'll generate some random data and find the line of best fit."
   ]
  },
  {
   "cell_type": "code",
   "execution_count": 2,
   "metadata": {},
   "outputs": [
    {
     "data": {
      "image/png": "[encoded data removed]",
      "text/plain": [
       "<Figure size 432x288 with 1 Axes>"
      ]
     },
     "metadata": {
      "needs_background": "light"
     },
     "output_type": "display_data"
    },
    {
     "data": {
      "text/plain": [
       "[(2.457618164192866, 2.5244451565425705),\n",
       " (0.7373600097223246, 0.5013356138016888),\n",
       " (0.19835645362327714, 0.1920339602521886),\n",
       " (2.2961920987627265, 2.4304546426070006),\n",
       " (1.697325153868266, 1.6143949097256836),\n",
       " (0.5284527886679583, 0.7416708058103684),\n",
       " (0.6969772460049171, 0.5341510486544614),\n",
       " (1.956424107841963, 1.9408516911203095),\n",
       " (0.9433160607578218, 0.8893217084775139),\n",
       " (0.1950565846397525, 0.11551280634206779),\n",
       " (0.2598418260710574, 0.07216346718608677),\n",
       " (0.2786030765193709, 0.3375900820571657),\n",
       " (2.2530747103250355, 2.110287684315869),\n",
       " (1.8748177829832087, 1.8229862176220957),\n",
       " (0.7974024937168308, 0.8547887334655107),\n",
       " (1.3815386442563138, 1.440754807520194),\n",
       " (0.34500008788067527, 0.14110296117193363),\n",
       " (2.7094097252586455, 2.5872258224270297),\n",
       " (0.4891798257953001, 0.5157368411498835),\n",
       " (0.10050993619744426, 0.09595446678791378)]"
      ]
     },
     "execution_count": 2,
     "metadata": {},
     "output_type": "execute_result"
    }
   ],
   "source": [
    "num_data = 20\n",
    "\n",
    "def gen_data(n):\n",
    "    \n",
    "    x = []\n",
    "    y = []\n",
    "    \n",
    "    for i in range(n):\n",
    "        rand = abs(np.random.randn())\n",
    "        x += [rand]\n",
    "        y += [.15 * np.random.randn() + rand]\n",
    "\n",
    "    plt.scatter(x, y)\n",
    "    plt.show()\n",
    "    \n",
    "    return (x, y)\n",
    "\n",
    "data = gen_data(num_data)\n",
    "data = [(data[0][i], data[1][i]) for i in range(num_data)]\n",
    "data"
   ]
  },
  {
   "cell_type": "markdown",
   "metadata": {},
   "source": [
    "### Numpy Linear Regression\n",
    "Now, `data` is a list of tuples of data. Perform linear regression to find the line of best fit, using only numpy. Minimize squared loss. Use matplotlib to plot your line of best fit."
   ]
  },
  {
   "cell_type": "code",
   "execution_count": 3,
   "metadata": {},
   "outputs": [
    {
     "name": "stderr",
     "output_type": "stream",
     "text": [
      "/Users/christinezhu/opt/anaconda3/lib/python3.7/site-packages/ipykernel_launcher.py:6: FutureWarning: `rcond` parameter will change to the default of machine precision times ``max(M, N)`` where M and N are the input matrix dimensions.\n",
      "To use the future default and silence this warning we advise to pass `rcond=None`, to keep using the old, explicitly pass `rcond=-1`.\n",
      "  \n"
     ]
    },
    {
     "data": {
      "text/plain": [
       "<matplotlib.collections.PathCollection at 0x7fabd884f250>"
      ]
     },
     "execution_count": 3,
     "metadata": {},
     "output_type": "execute_result"
    },
    {
     "data": {
      "image/png": "[encoded data removed]",
      "text/plain": [
       "<Figure size 432x288 with 1 Axes>"
      ]
     },
     "metadata": {
      "needs_background": "light"
     },
     "output_type": "display_data"
    }
   ],
   "source": [
    "data1 = data.copy() #data1 is a copy of data, dont modify data since we'll use it later\n",
    "#YOUR CODE HERE\n",
    "data1 = np.array(data1)\n",
    "X = data1[:, 0].reshape(-1, 1) \n",
    "y = data1[:, 1].reshape(-1, 1) \n",
    "w = np.linalg.lstsq(X, y)[0][0][0] \n",
    "x = np.arange(0, 3, 0.001) \n",
    "plt.plot(x, w*x)\n",
    "plt.scatter(data1[:, 0], data1[:, 1])"
   ]
  },
  {
   "cell_type": "markdown",
   "metadata": {},
   "source": [
    "### Sklearn Linear Regression\n",
    "Now, do the same thing, except using Scikit Learn. I recommend reading some documentation, specifically here: https://scikit-learn.org/stable/modules/generated/sklearn.linear_model.LinearRegression.html"
   ]
  },
  {
   "cell_type": "code",
   "execution_count": 4,
   "metadata": {},
   "outputs": [
    {
     "data": {
      "text/plain": [
       "<matplotlib.collections.PathCollection at 0x7faba81aa850>"
      ]
     },
     "execution_count": 4,
     "metadata": {},
     "output_type": "execute_result"
    },
    {
     "data": {
      "image/png": "[encoded data removed]",
      "text/plain": [
       "<Figure size 432x288 with 1 Axes>"
      ]
     },
     "metadata": {
      "needs_background": "light"
     },
     "output_type": "display_data"
    }
   ],
   "source": [
    "data2 = data.copy()\n",
    "#YOUR CODE HERE\n",
    "data2 = np.array(data1)\n",
    "X = data2[:, 0].reshape(-1, 1) \n",
    "y = data2[:, 1].reshape(-1, 1) \n",
    "model = LinearRegression() \n",
    "model.fit(X, y)\n",
    "x = np.arange(0, 3, 0.001)\n",
    "plt.plot(x, model.coef_[0]*x + model.intercept_) \n",
    "plt.scatter(data2[:, 0], data2[:, 1])"
   ]
  },
  {
   "cell_type": "markdown",
   "metadata": {},
   "source": [
    "# Gaussian Orbits\n",
    "\n",
    "In this homework, we will use linear regression methods in order to determine the orbits of heavenly bodies.\n",
    "\n",
    "### Background\n",
    "\n",
    "In 1801 the minor planet Ceres was first observed for a period of 40 days before moving behind the sun. To predict the location of Ceres astronomers would have to solve complicated non-linear differential equations, quite a task in an era before computers or calculators. However, Carl Friedrich Gauss had another idea. By single handedly developing the theory of least squares and linear regression and applying it to the problem of finding Ceres, Gauss managed to accurately predict the location of the minor planet nearly a year after it's last sighting.\n",
    "\n",
    "In this problem we likewise attempt to predict the orbit of a \"planet\" and in the process \"derive\" the formula for an ellipse, the shape of orbits of heavenly bodies."
   ]
  },
  {
   "cell_type": "markdown",
   "metadata": {},
   "source": [
    "### 1. Generate Data\n",
    "\n",
    "The idea here is we generate data in the shape of an ellipse. To do this we use the formula of an ellipse in polar coordinates:\n",
    "\n",
    "$$ r = \\frac{ep}{1-e \\cos{\\theta}} $$\n",
    "\n",
    "where $ e $ is the eccentricity and $ p $ is the distance from the minor axis to the directrix (read \"length\"). In addition, we add random noise to the data.\n",
    "\n",
    "We will then try to fit curves to our synthetic dataset."
   ]
  },
  {
   "cell_type": "code",
   "execution_count": 5,
   "metadata": {},
   "outputs": [
    {
     "data": {
      "image/png": "[encoded data removed]",
      "text/plain": [
       "<Figure size 432x288 with 1 Axes>"
      ]
     },
     "metadata": {
      "needs_background": "light"
     },
     "output_type": "display_data"
    }
   ],
   "source": [
    "def gen_data(e, p, o):\n",
    "    theta = np.linspace(0,2*np.pi, 200)\n",
    "\n",
    "    # Ellipse with eccentricity e\n",
    "    # Axis \"length\" p\n",
    "    # Offset by .5 angularly\n",
    "    r = e*p/(1-e*np.cos(theta - o)) \n",
    "\n",
    "    # transform to cartesian\n",
    "    x = r * np.cos(theta)\n",
    "    y = r * np.sin(theta)\n",
    "\n",
    "    # Add noise\n",
    "    x += np.random.randn(x.shape[0]) / 20\n",
    "    y += np.random.randn(y.shape[0]) / 20\n",
    "\n",
    "    # plot\n",
    "    plt.scatter(x, y)\n",
    "    plt.show()\n",
    "\n",
    "    # saving\n",
    "    np.save('x.npy', x)\n",
    "    np.save('y.npy', y)\n",
    "    return x, y\n",
    "\n",
    "x, y = gen_data(.5, 2, .5)"
   ]
  },
  {
   "cell_type": "markdown",
   "metadata": {},
   "source": [
    "### 2. Use sklearn's LinearRegression\n",
    "\n",
    "Try to fit a `LinearRegression` model to `x` and `y` (let $ x $ be the independent variable and $ y $ be the dependent variable). Print out the `mean_squared_error` you get and plot both `x`, `y` (scatter plot), and the predicted orbit (line plot)."
   ]
  },
  {
   "cell_type": "code",
   "execution_count": 6,
   "metadata": {},
   "outputs": [
    {
     "name": "stdout",
     "output_type": "stream",
     "text": [
      "0.6560685543813398\n"
     ]
    }
   ],
   "source": [
    "### YOUR CODE HERE\n",
    "x, y = x.reshape(-1, 1), y.reshape(-1, 1) \n",
    "model = LinearRegression()\n",
    "model.fit(x, y)\n",
    "y_hat = model.predict(x) \n",
    "print(mean_squared_error(y, y_hat))\n"
   ]
  },
  {
   "cell_type": "markdown",
   "metadata": {},
   "source": [
    "This is not the best approach for our data.  Please explain why below."
   ]
  },
  {
   "cell_type": "markdown",
   "metadata": {},
   "source": [
    "Answer: Our data clearly does not fit a linear model, thus using linear regression as an approach is too simplistic and cannot accurately capture features of our data."
   ]
  },
  {
   "cell_type": "markdown",
   "metadata": {},
   "source": [
    "### 3. Experimentation time!\n",
    "\n",
    "Try adding new features to your linear model by manipulating $ x $! For example, try adding a quadratic term, $ x^2 $ or a root term like $ \\sqrt{x} $. Print out the MSE of your model and plot both `x`, `y` (scatter plot), and the predicted orbit (line plot). This time, your model should take in an expanded set of features and predict $ y $.\n",
    "\n",
    "Hint: `np.vstack` may be useful here."
   ]
  },
  {
   "cell_type": "code",
   "execution_count": 7,
   "metadata": {},
   "outputs": [
    {
     "name": "stdout",
     "output_type": "stream",
     "text": [
      "0.6474752200516569\n",
      "[[-0.05269991  0.15954451]]\n"
     ]
    }
   ],
   "source": [
    "### YOUR CODE HERE\n",
    "bonus_x = np.hstack((x, x**2)) \n",
    "model = LinearRegression()\n",
    "model.fit(bonus_x, y)\n",
    "y_hat = model.predict(bonus_x) \n",
    "print(mean_squared_error(y, y_hat)) \n",
    "print(model.coef_)"
   ]
  },
  {
   "cell_type": "markdown",
   "metadata": {},
   "source": [
    "This is still not the best idea, please explain:"
   ]
  },
  {
   "cell_type": "markdown",
   "metadata": {},
   "source": [
    "Ellipses cannot be represented by a quadratic function of a single variable."
   ]
  },
  {
   "cell_type": "markdown",
   "metadata": {},
   "source": [
    "### 4. Plane Curves\n",
    "\n",
    "As you've probably figured out, the above two methods are pretty crap at predicting orbits. What we really need to do is predict a curve in the plane. First, let's erase some of the data so what we're doing is actually a challenge. Just run the code in the next box:"
   ]
  },
  {
   "cell_type": "code",
   "execution_count": 8,
   "metadata": {},
   "outputs": [
    {
     "data": {
      "image/png": "[encoded data removed]",
      "text/plain": [
       "<Figure size 432x288 with 1 Axes>"
      ]
     },
     "metadata": {
      "needs_background": "light"
     },
     "output_type": "display_data"
    }
   ],
   "source": [
    "# Create a mask where x < 0 or y < 0\n",
    "def mask():\n",
    "    global x\n",
    "    global y\n",
    "    \n",
    "    mask = (x < 0) + (y < 0)\n",
    "    x = x[mask]\n",
    "    y = y[mask]\n",
    "    \n",
    "    # plot erased data\n",
    "    plt.scatter(x, y)\n",
    "    plt.show()\n",
    "\n",
    "mask()"
   ]
  },
  {
   "cell_type": "markdown",
   "metadata": {},
   "source": [
    "Now the most general form of a plane curve is\n",
    "\n",
    "$$ f(x,y) = 0 $$\n",
    "\n",
    "In order to simplify our lives a bit, let's restrict this to something of the form:\n",
    "\n",
    "$$ ax^2 + bxy + cy^2 + dx + ey + f = 0 $$\n",
    "\n",
    "You may recognize this as the general form of a conic! Let's take our data and try to predict the best possible coefficients here using least squares. This way, these coefficients should give the best possible approximation to the orbit. Print your predicted coefficients.\n",
    "\n",
    "Hint 1: Think about the features you need. (6 total)\n",
    "\n",
    "Hint 2: Use the normal equation instead of sklearn.\n",
    "\n",
    "Hint 3: This is going to fail, why?\n"
   ]
  },
  {
   "cell_type": "code",
   "execution_count": 9,
   "metadata": {},
   "outputs": [
    {
     "name": "stdout",
     "output_type": "stream",
     "text": [
      "[[0.]\n",
      " [0.]\n",
      " [0.]\n",
      " [0.]\n",
      " [0.]\n",
      " [0.]]\n"
     ]
    }
   ],
   "source": [
    "### YOUR CODE HERE\n",
    "x, y = x.reshape(-1, 1), y.reshape(-1, 1)\n",
    "A = np.hstack((x**2, x*y, y**2, x, y, np.ones(x.shape)))\n",
    "zeros = np.zeros((len(A), 1))\n",
    "w = np.linalg.inv(A.T @ A) @ A.T @ zeros\n",
    "print(w)"
   ]
  },
  {
   "cell_type": "markdown",
   "metadata": {},
   "source": [
    "### 5. Reformulation\n",
    "\n",
    "The above should fail for a very trivial (pun intended) reason. The reason is that if we simply set all the coefficients to zero, we get a perfect solution! We can see this in the normal equations:\n",
    "\n",
    "$$ (A^TA)^{-1} A^T b = x $$\n",
    "\n",
    "but $ b = \\vec 0 $ in our case, thus $ x = \\vec 0 $ trivially.\n",
    "\n",
    "How do we get around this? One thing we can do is to not have $ b = \\vec 0 $. To do this, let us modify the general form of a plane curve a bit:\n",
    "\n",
    "$$ f(x,y) + 1 = 1 $$\n",
    "\n",
    "Now our restricted plane curve will be of the form\n",
    "\n",
    "$$ ax^2 + bxy + cy^2 + dx + ey + f + 1 = 1 $$\n",
    "\n",
    "Is this just an aesthetic change? or will this actually help? Code it up and find out! Plot your model using the handy dandy `plot_conic` function"
   ]
  },
  {
   "cell_type": "code",
   "execution_count": 10,
   "metadata": {},
   "outputs": [],
   "source": [
    "# This function should help you plot your ellipses:\n",
    "\n",
    "def plot_conic(coeff):\n",
    "    '''\n",
    "    params\n",
    "    ------\n",
    "    coeff : array[6] floats\n",
    "        Array of 6 floats, corresponding to \n",
    "        a, b, c, d, e, and f respectively\n",
    "        in the equation above\n",
    "    '''\n",
    "    xv = np.linspace(-9, 9, 400)\n",
    "    yv = np.linspace(-5, 5, 400)\n",
    "    xv, yv = np.meshgrid(xv, yv)\n",
    "\n",
    "    def axes():\n",
    "        plt.axhline(0, alpha=.1)\n",
    "        plt.axvline(0, alpha=.1)\n",
    "\n",
    "    axes()\n",
    "    plt.contour(xv, yv, xv*xv*coeff[0] + xv*yv*coeff[1] + yv*yv*coeff[2] + xv*coeff[3] + yv*coeff[4] + coeff[5], [0], colors='k')\n",
    "    plt.scatter(x,y)\n",
    "    plt.show()"
   ]
  },
  {
   "cell_type": "code",
   "execution_count": 11,
   "metadata": {},
   "outputs": [
    {
     "data": {
      "image/png": "[encoded data removed]",
      "text/plain": [
       "<Figure size 432x288 with 1 Axes>"
      ]
     },
     "metadata": {
      "needs_background": "light"
     },
     "output_type": "display_data"
    },
    {
     "name": "stdout",
     "output_type": "stream",
     "text": [
      "[ 7.52176099e-15 -6.41153797e-15  4.60742555e-15 -2.16493490e-15\n",
      "  1.60982339e-15  6.21724894e-15]\n"
     ]
    },
    {
     "name": "stderr",
     "output_type": "stream",
     "text": [
      "/Users/christinezhu/opt/anaconda3/lib/python3.7/site-packages/ipykernel_launcher.py:21: UserWarning: No contour levels were found within the data range.\n"
     ]
    },
    {
     "data": {
      "image/png": "[encoded data removed]",
      "text/plain": [
       "<Figure size 432x288 with 1 Axes>"
      ]
     },
     "metadata": {
      "needs_background": "light"
     },
     "output_type": "display_data"
    }
   ],
   "source": [
    "### YOUR CODE HERE\n",
    "x, y = gen_data(.5, 2, .5)\n",
    "A = np.vstack((x ** 2, x * y, y ** 2, x, y, np.ones(len(x)))).T \n",
    "ones = np.ones(len(A))\n",
    "w = np.linalg.inv(A.T @ A) @ A.T @ ones\n",
    "w[-1] = w[-1] - 1 \n",
    "print(w) \n",
    "plot_conic(w)\n"
   ]
  },
  {
   "cell_type": "markdown",
   "metadata": {},
   "source": [
    "### 6. Ridge\n",
    "\n",
    "So, reformulating the problem might have worked, but more than likely it didn't work too well. Here's some code to generate new data. Try running the above model multiple times on different data. More than likely most of them will look terrible."
   ]
  },
  {
   "cell_type": "code",
   "execution_count": 12,
   "metadata": {},
   "outputs": [
    {
     "data": {
      "image/png": "[encoded data removed]",
      "text/plain": [
       "<Figure size 432x288 with 1 Axes>"
      ]
     },
     "metadata": {
      "needs_background": "light"
     },
     "output_type": "display_data"
    },
    {
     "data": {
      "image/png": "[encoded data removed]",
      "text/plain": [
       "<Figure size 432x288 with 1 Axes>"
      ]
     },
     "metadata": {
      "needs_background": "light"
     },
     "output_type": "display_data"
    }
   ],
   "source": [
    "# Regenerate data\n",
    "gen_data(.5, 2, .5)\n",
    "mask()"
   ]
  },
  {
   "cell_type": "markdown",
   "metadata": {},
   "source": [
    "The problem here is that our method is too unstable. It turns out the Ridge Regression as a regularizer can reduce numerical instability and constrain under-constrained problems. (The math homework with the Ridge Derivation walks you through why this is the case)\n",
    "\n",
    "The closed form solution for Ridge Regression is the following:\n",
    "\n",
    "$$ w^*_{\\text{RIDGE}} = (X^TX + \\lambda I)^{-1}X^Ty$$\n",
    "\n",
    "\n",
    "Rewrite the regression from above using ridge regression (try using $\\lambda = 1$) and see how well it does. Plot out the model using `plot_conic`. Compare the results with the previous method.\n",
    "\n",
    "Hint: Use the `regenerate data` block to try new data\n",
    "\n",
    "Hint: There is really only one extra term between this question and the previous"
   ]
  },
  {
   "cell_type": "code",
   "execution_count": 13,
   "metadata": {},
   "outputs": [
    {
     "name": "stdout",
     "output_type": "stream",
     "text": [
      "[ 0.1476167  -0.03712319  0.17830256 -0.15923736 -0.08745281 -0.19211597]\n"
     ]
    },
    {
     "data": {
      "image/png": "[encoded data removed]",
      "text/plain": [
       "<Figure size 432x288 with 1 Axes>"
      ]
     },
     "metadata": {
      "needs_background": "light"
     },
     "output_type": "display_data"
    }
   ],
   "source": [
    "### YOUR CODE HERE\n",
    "lamb = 1\n",
    "A = np.vstack((x ** 2, x * y, y ** 2, x, y, np.ones(len(x)))).T \n",
    "b = np.ones(len(A))\n",
    "w = np.linalg.inv(A.T @ A + lamb * np.eye(len(A.T @ A))) @ A.T @ b \n",
    "w[-1] = w[-1] - 1\n",
    "print(w)\n",
    "plot_conic(w)"
   ]
  },
  {
   "cell_type": "markdown",
   "metadata": {},
   "source": [
    "### 7. \"Deriving\" an Ellipse\n",
    "\n",
    "LASSO regularization is a _sparse feature selector_ in the sense that it zeros out \"useless\" features and keeps relevant features. It's a good way to reduce the number of features you have to use. \n",
    "\n",
    "In this case we're going to pretend we don't know what form the equation of an ellipse takes. We can add random monomials to form a guess:\n",
    "\n",
    "$$ ax^2 + bxy + cy^2 + dx + ey + f + gx^3 + hy^3 + jx^2y + \\cdots + 1 = 1 $$\n",
    "\n",
    "The idea here is that if we use LASSO regression on the above equation, the terms irrelevant to an ellipse will \"zero out\" and the quadratic and lower terms won't! Try this out, and print out the coefficients. No gurantees this will works 100% :), but you should find that all coefficients greater than quadratic zero out.\n",
    "\n",
    "`Hint`: We want to keep the ridge regularization to maintain numerical stabilitiy. So we need a combined Ridge and LASSO regression. This model is called `ElasticNet` from sklearn. Use that model.\n",
    "\n",
    "`Hint`: You might have to play around with the parameters a bit. I used these `l1_ratio=.23, alpha=.01` to produce some pretty good results"
   ]
  },
  {
   "cell_type": "code",
   "execution_count": 14,
   "metadata": {},
   "outputs": [
    {
     "name": "stdout",
     "output_type": "stream",
     "text": [
      "[ 0.05650945 -0.          0.07306371 -0.05147297 -0.02648981  0.92131226\n",
      " -0.         -0.         -0.          0.        ]\n"
     ]
    }
   ],
   "source": [
    "### YOUR CODE HERE\n",
    "x_copy = np.vstack((x ** 2, x * y, y ** 2, x, y, np.ones(len(x)), x ** 3, y ** 3, x ** 2 * y, x * y ** 2)).T\n",
    "model = ElasticNet(l1_ratio = 0.23, alpha = .01, fit_intercept = False)\n",
    "model.fit(x_copy, np.ones(len(x)))\n",
    "coeff = model.coef_ \n",
    "print(coeff)"
   ]
  },
  {
   "cell_type": "markdown",
   "metadata": {},
   "source": [
    "### 8. Evaluate this model!\n",
    "\n",
    "Run this code block below. This code block assumes that you have an array called `coeff` which has  10 elements."
   ]
  },
  {
   "cell_type": "code",
   "execution_count": 15,
   "metadata": {},
   "outputs": [
    {
     "data": {
      "image/png": "[encoded data removed]",
      "text/plain": [
       "<Figure size 432x288 with 1 Axes>"
      ]
     },
     "metadata": {
      "needs_background": "light"
     },
     "output_type": "display_data"
    }
   ],
   "source": [
    "xv = np.linspace(-9, 9, 400)\n",
    "yv = np.linspace(-5, 5, 400)\n",
    "xv, yv = np.meshgrid(xv, yv)\n",
    "\n",
    "def axes():\n",
    "    plt.axhline(0, alpha=.1)\n",
    "    plt.axvline(0, alpha=.1)\n",
    "\n",
    "axes()\n",
    "plt.contour(xv, yv, xv*xv*coeff[0] + xv*yv*coeff[1] + yv*yv*coeff[2] + xv*coeff[3] + yv*coeff[4] + coeff[5] - 1 + coeff[6]*xv*xv*xv + coeff[7]*yv*yv*yv + coeff[8]*xv*xv*yv + coeff[9]*xv*yv*yv , [0], colors='k')\n",
    "plt.scatter(x,y)\n",
    "plt.show()"
   ]
  },
  {
   "cell_type": "markdown",
   "metadata": {},
   "source": [
    "\n",
    "As demonstrated above, ridge regression can help overcome numerical instability and generalization issues that ordinary least squares (OLS) can fall short to. \n"
   ]
  }
 ],
 "metadata": {
  "kernelspec": {
   "display_name": "Python 3",
   "language": "python",
   "name": "python3"
  },
  "language_info": {
   "codemirror_mode": {
    "name": "ipython",
    "version": 3
   },
   "file_extension": ".py",
   "mimetype": "text/x-python",
   "name": "python",
   "nbconvert_exporter": "python",
   "pygments_lexer": "ipython3",
   "version": "3.7.6"
  }
 },
 "nbformat": 4,
 "nbformat_minor": 2
}
