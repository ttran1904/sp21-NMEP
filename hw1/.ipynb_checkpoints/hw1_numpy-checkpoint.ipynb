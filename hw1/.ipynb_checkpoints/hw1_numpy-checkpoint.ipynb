{
 "cells": [
  {
   "cell_type": "markdown",
   "metadata": {},
   "source": [
    "# Intro to Numpy \n",
    "\n",
    "What is Numpy and why do we use it? \n",
    "\n",
    "It's an awesome python package that adds support for large, multi-dimensional arrays. Really good for vector operations, matrix operations because its super parallelized so its super fast! \n"
   ]
  },
  {
   "cell_type": "markdown",
   "metadata": {},
   "source": [
    "Why not Python arrays? \n",
    "\n",
    "Python arrays has certain limitations: they don’t support “vectorized” operations like elementwise addition and multiplication, and the fact that they can contain objects of differing types mean that Python must store type information for every element, and must execute type dispatching code when operating on each element. This also means that very few list operations can be carried out by efficient C loops – each iteration would require type checks and other Python API bookkeeping.\n",
    "\n"
   ]
  },
  {
   "cell_type": "markdown",
   "metadata": {},
   "source": [
    "### Importing numpy\n",
    "Functions for numerical computiing are provided by a separate module called `numpy` which we must import.\n",
    "\n",
    "By convention, we import numpy using the alias `np`.\n",
    "\n",
    "Once we have done this we can prefix the functions in the numpy library using the prefix `np`."
   ]
  },
  {
   "cell_type": "code",
   "execution_count": 38,
   "metadata": {},
   "outputs": [],
   "source": [
    "# This is the de facto way to import NumPy. You probably don't want to write numpy.whatever every time\n",
    "import numpy as np"
   ]
  },
  {
   "cell_type": "markdown",
   "metadata": {},
   "source": [
    "### Numpy Arrays\n",
    "NumPy arrays are the workhorse of the library. A NumPy array is essentially a bunch of data coupled with some metadata:\n",
    "\n",
    "type: the type of objects in the array. This will typically be floating-point numbers for our purposes, but other types can be stored. The type of an array can be accessed via the `dtype` attribute.\n",
    "\n",
    "shape: the dimensions of the array. This is given as a tuple, where element $i$ of the tuple tells you how the \"length\" of the array in the $i$th dimension. For example, a 10-dimensional vector would have shape (10,), a 32-by-100 matrix would have shape (32,100), etc. The shape of an array can be accessed via the `shape` attribute.\n",
    "\n",
    "Let's see some examples! There are number of ways to construct arrays. One is to pass in a Python sequence (such as list or tuple) to the `np.array` function:"
   ]
  },
  {
   "cell_type": "code",
   "execution_count": 39,
   "metadata": {
    "scrolled": true
   },
   "outputs": [
    {
     "data": {
      "text/plain": [
       "array([ 1. ,  2.3, -6. ])"
      ]
     },
     "execution_count": 39,
     "metadata": {},
     "output_type": "execute_result"
    }
   ],
   "source": [
    "np.array([1, 2.3, -6])"
   ]
  },
  {
   "cell_type": "markdown",
   "metadata": {
    "collapsed": true
   },
   "source": [
    "We can also easily create ordered numerical lists!"
   ]
  },
  {
   "cell_type": "code",
   "execution_count": 40,
   "metadata": {},
   "outputs": [
    {
     "name": "stdout",
     "output_type": "stream",
     "text": [
      "[0 1 2 3 4 5 6]\n",
      "[3 4 5 6 7 8]\n"
     ]
    }
   ],
   "source": [
    "# Remember we zero index so you will actually get 0 to 6!\n",
    "print(np.arange(7))\n",
    "# Remember the list wont include 9\n",
    "print(np.arange(3, 9))"
   ]
  },
  {
   "cell_type": "markdown",
   "metadata": {},
   "source": [
    "We can also customize these list with a third paramter that specifices step size"
   ]
  },
  {
   "cell_type": "code",
   "execution_count": 41,
   "metadata": {},
   "outputs": [
    {
     "data": {
      "text/plain": [
       "array([ 0., 10., 20., 30., 40., 50., 60., 70., 80., 90.])"
      ]
     },
     "execution_count": 41,
     "metadata": {},
     "output_type": "execute_result"
    }
   ],
   "source": [
    "np.arange(0.0, 100.0, 10.0)"
   ]
  },
  {
   "cell_type": "markdown",
   "metadata": {},
   "source": [
    "To create a multi-dimensional array, we'll need to nest the sequences:"
   ]
  },
  {
   "cell_type": "code",
   "execution_count": 42,
   "metadata": {},
   "outputs": [
    {
     "data": {
      "text/plain": [
       "array([[ 1. ,  2.3, -6. ],\n",
       "       [ 7. ,  8. ,  9. ]])"
      ]
     },
     "execution_count": 42,
     "metadata": {},
     "output_type": "execute_result"
    }
   ],
   "source": [
    "np.array([[1, 2.3, -6], [7, 8, 9]])"
   ]
  },
  {
   "cell_type": "markdown",
   "metadata": {},
   "source": [
    "Neat! \n",
    "\n",
    "There are also many convenience functions for constructing special arrays. Here are some that might be useful: "
   ]
  },
  {
   "cell_type": "code",
   "execution_count": 43,
   "metadata": {},
   "outputs": [
    {
     "data": {
      "text/plain": [
       "array([[1., 0., 0., 0., 0., 0., 0.],\n",
       "       [0., 1., 0., 0., 0., 0., 0.],\n",
       "       [0., 0., 1., 0., 0., 0., 0.],\n",
       "       [0., 0., 0., 1., 0., 0., 0.],\n",
       "       [0., 0., 0., 0., 1., 0., 0.],\n",
       "       [0., 0., 0., 0., 0., 1., 0.],\n",
       "       [0., 0., 0., 0., 0., 0., 1.]])"
      ]
     },
     "execution_count": 43,
     "metadata": {},
     "output_type": "execute_result"
    }
   ],
   "source": [
    "# The identity matrix of given size\n",
    "np.eye(7)"
   ]
  },
  {
   "cell_type": "code",
   "execution_count": 44,
   "metadata": {},
   "outputs": [
    {
     "data": {
      "text/plain": [
       "array([[1.1, 0. , 0. ],\n",
       "       [0. , 2.2, 0. ],\n",
       "       [0. , 0. , 3.3]])"
      ]
     },
     "execution_count": 44,
     "metadata": {},
     "output_type": "execute_result"
    }
   ],
   "source": [
    "# A matrix with the given vector on the diagonal\n",
    "np.diag([1.1,2.2,3.3])"
   ]
  },
  {
   "cell_type": "code",
   "execution_count": 45,
   "metadata": {},
   "outputs": [
    {
     "data": {
      "text/plain": [
       "(array([[0., 0., 0., 0.],\n",
       "        [0., 0., 0., 0.],\n",
       "        [0., 0., 0., 0.],\n",
       "        [0., 0., 0., 0.],\n",
       "        [0., 0., 0., 0.],\n",
       "        [0., 0., 0., 0.],\n",
       "        [0., 0., 0., 0.],\n",
       "        [0., 0., 0., 0.]]), array([1., 1., 1.]))"
      ]
     },
     "execution_count": 45,
     "metadata": {},
     "output_type": "execute_result"
    }
   ],
   "source": [
    "#An array of all zeros or ones with the given shape\n",
    "np.zeros((8,4)), np.ones(3)"
   ]
  },
  {
   "cell_type": "code",
   "execution_count": 46,
   "metadata": {},
   "outputs": [
    {
     "data": {
      "text/plain": [
       "array([[2.1, 2.1, 2.1, 2.1],\n",
       "       [2.1, 2.1, 2.1, 2.1],\n",
       "       [2.1, 2.1, 2.1, 2.1]])"
      ]
     },
     "execution_count": 46,
     "metadata": {},
     "output_type": "execute_result"
    }
   ],
   "source": [
    "# An array with a given shape full of a specified value\n",
    "np.full((3,4), 2.1)"
   ]
  },
  {
   "cell_type": "code",
   "execution_count": 47,
   "metadata": {},
   "outputs": [
    {
     "data": {
      "text/plain": [
       "array([[ 0.44032345, -1.1219362 , -0.08920505, -0.07047932,  0.8910171 ,\n",
       "        -0.70341736],\n",
       "       [ 0.14479853,  0.86000155,  0.93252632,  0.02121402, -1.08361651,\n",
       "        -0.06678442],\n",
       "       [-0.80586109,  0.60937236, -0.74301371, -0.89033242, -0.94453845,\n",
       "        -0.77871628],\n",
       "       [ 0.81952516, -0.76601687,  0.3664054 ,  0.564457  , -0.03159504,\n",
       "         0.91726797],\n",
       "       [ 0.30640842, -0.82073157, -0.94597452,  1.67950566,  0.10209891,\n",
       "         1.02427877]])"
      ]
     },
     "execution_count": 47,
     "metadata": {},
     "output_type": "execute_result"
    }
   ],
   "source": [
    "# A random (standard normal distribution) array with the given shape\n",
    "np.random.randn(5,6)"
   ]
  },
  {
   "cell_type": "markdown",
   "metadata": {},
   "source": [
    "Okay your turn! In the cell belows try and create:\n",
    "\n",
    "\n",
    "<b>A diagonal matrix with values from 1-20 (try and create this and only type two numbers!)</b>"
   ]
  },
  {
   "cell_type": "code",
   "execution_count": 48,
   "metadata": {},
   "outputs": [
    {
     "data": {
      "text/plain": [
       "array([[ 1,  0,  0,  0,  0,  0,  0,  0,  0,  0,  0,  0,  0,  0,  0,  0,\n",
       "         0,  0,  0,  0],\n",
       "       [ 0,  2,  0,  0,  0,  0,  0,  0,  0,  0,  0,  0,  0,  0,  0,  0,\n",
       "         0,  0,  0,  0],\n",
       "       [ 0,  0,  3,  0,  0,  0,  0,  0,  0,  0,  0,  0,  0,  0,  0,  0,\n",
       "         0,  0,  0,  0],\n",
       "       [ 0,  0,  0,  4,  0,  0,  0,  0,  0,  0,  0,  0,  0,  0,  0,  0,\n",
       "         0,  0,  0,  0],\n",
       "       [ 0,  0,  0,  0,  5,  0,  0,  0,  0,  0,  0,  0,  0,  0,  0,  0,\n",
       "         0,  0,  0,  0],\n",
       "       [ 0,  0,  0,  0,  0,  6,  0,  0,  0,  0,  0,  0,  0,  0,  0,  0,\n",
       "         0,  0,  0,  0],\n",
       "       [ 0,  0,  0,  0,  0,  0,  7,  0,  0,  0,  0,  0,  0,  0,  0,  0,\n",
       "         0,  0,  0,  0],\n",
       "       [ 0,  0,  0,  0,  0,  0,  0,  8,  0,  0,  0,  0,  0,  0,  0,  0,\n",
       "         0,  0,  0,  0],\n",
       "       [ 0,  0,  0,  0,  0,  0,  0,  0,  9,  0,  0,  0,  0,  0,  0,  0,\n",
       "         0,  0,  0,  0],\n",
       "       [ 0,  0,  0,  0,  0,  0,  0,  0,  0, 10,  0,  0,  0,  0,  0,  0,\n",
       "         0,  0,  0,  0],\n",
       "       [ 0,  0,  0,  0,  0,  0,  0,  0,  0,  0, 11,  0,  0,  0,  0,  0,\n",
       "         0,  0,  0,  0],\n",
       "       [ 0,  0,  0,  0,  0,  0,  0,  0,  0,  0,  0, 12,  0,  0,  0,  0,\n",
       "         0,  0,  0,  0],\n",
       "       [ 0,  0,  0,  0,  0,  0,  0,  0,  0,  0,  0,  0, 13,  0,  0,  0,\n",
       "         0,  0,  0,  0],\n",
       "       [ 0,  0,  0,  0,  0,  0,  0,  0,  0,  0,  0,  0,  0, 14,  0,  0,\n",
       "         0,  0,  0,  0],\n",
       "       [ 0,  0,  0,  0,  0,  0,  0,  0,  0,  0,  0,  0,  0,  0, 15,  0,\n",
       "         0,  0,  0,  0],\n",
       "       [ 0,  0,  0,  0,  0,  0,  0,  0,  0,  0,  0,  0,  0,  0,  0, 16,\n",
       "         0,  0,  0,  0],\n",
       "       [ 0,  0,  0,  0,  0,  0,  0,  0,  0,  0,  0,  0,  0,  0,  0,  0,\n",
       "        17,  0,  0,  0],\n",
       "       [ 0,  0,  0,  0,  0,  0,  0,  0,  0,  0,  0,  0,  0,  0,  0,  0,\n",
       "         0, 18,  0,  0],\n",
       "       [ 0,  0,  0,  0,  0,  0,  0,  0,  0,  0,  0,  0,  0,  0,  0,  0,\n",
       "         0,  0, 19,  0],\n",
       "       [ 0,  0,  0,  0,  0,  0,  0,  0,  0,  0,  0,  0,  0,  0,  0,  0,\n",
       "         0,  0,  0, 20]])"
      ]
     },
     "execution_count": 48,
     "metadata": {},
     "output_type": "execute_result"
    }
   ],
   "source": [
    "np.diag(np.arange(1, 21))"
   ]
  },
  {
   "cell_type": "markdown",
   "metadata": {},
   "source": [
    "Okay now let's suppose we have some data in an array so we can start doing stuff with it.\n"
   ]
  },
  {
   "cell_type": "code",
   "execution_count": 49,
   "metadata": {},
   "outputs": [
    {
     "data": {
      "text/plain": [
       "array([[ 0.78947584, -0.52682962, -2.19164938, -0.48198861, -0.0797222 ],\n",
       "       [ 0.63882492, -1.04909477,  0.97511411, -1.45681214, -0.32696091],\n",
       "       [ 1.67977622, -0.11117309, -0.40936971, -0.51953405,  0.32016627],\n",
       "       [-2.24571715, -0.78311993, -1.02918685,  3.16100679,  0.43519054],\n",
       "       [ 0.25904762, -0.90001635, -0.06143389,  2.47963386, -0.62412903],\n",
       "       [ 0.38757136,  0.77890101, -3.26705488, -0.26913917, -0.09545862],\n",
       "       [ 0.16112247,  1.1891346 ,  0.96717519, -1.0575688 ,  0.67579041],\n",
       "       [ 0.3981081 , -1.74925044, -0.2694531 ,  1.59379751, -0.55538769],\n",
       "       [-0.9663187 , -0.39775697,  1.96516433, -0.5437474 , -0.65750085],\n",
       "       [-1.09998386,  0.67697006,  0.67108404,  0.09721367,  0.50813843]])"
      ]
     },
     "execution_count": 49,
     "metadata": {},
     "output_type": "execute_result"
    }
   ],
   "source": [
    "A = np.random.randn(10,5); x = np.random.randn(5)\n",
    "A"
   ]
  },
  {
   "cell_type": "markdown",
   "metadata": {},
   "source": [
    "One useful thing that NumPy lets us do efficiently is apply the same function to every element in an array. You'll often need to e.g. exponentiate a bunch of values, but if you use a list comprehension or map with the builtin Python math functions it may be really slow. Instead just write"
   ]
  },
  {
   "cell_type": "code",
   "execution_count": 50,
   "metadata": {},
   "outputs": [
    {
     "data": {
      "text/plain": [
       "array([[ 2.2022418 ,  0.59047403,  0.11173231,  0.6175541 ,  0.92337283],\n",
       "       [ 1.89425367,  0.35025467,  2.65146975,  0.23297779,  0.72111193],\n",
       "       [ 5.36435542,  0.89478385,  0.66406868,  0.59479763,  1.37735676],\n",
       "       [ 0.1058516 ,  0.45697805,  0.35729738, 23.59433858,  1.54525747],\n",
       "       [ 1.29569551,  0.40656301,  0.94041512, 11.93689301,  0.53572783],\n",
       "       [ 1.47339809,  2.17907617,  0.03811853,  0.76403692,  0.90895598],\n",
       "       [ 1.17482884,  3.28423778,  2.63050327,  0.34729914,  1.96558599],\n",
       "       [ 1.48900498,  0.17390425,  0.7637971 ,  4.92240636,  0.57384975],\n",
       "       [ 0.38048113,  0.67182528,  7.13608514,  0.58056855,  0.51814464],\n",
       "       [ 0.33287646,  1.96790605,  1.95635693,  1.10209583,  1.66219403]])"
      ]
     },
     "execution_count": 50,
     "metadata": {},
     "output_type": "execute_result"
    }
   ],
   "source": [
    "# log, sin, cos, etc. work similarly\n",
    "np.exp(A)"
   ]
  },
  {
   "cell_type": "markdown",
   "metadata": {},
   "source": [
    "We can take the sum/mean/standard deviation/etc. of all the elements in an array:"
   ]
  },
  {
   "cell_type": "code",
   "execution_count": 51,
   "metadata": {},
   "outputs": [
    {
     "data": {
      "text/plain": [
       "(2.5293563336257554, 0.505871266725151, 1.0794560574215524)"
      ]
     },
     "execution_count": 51,
     "metadata": {},
     "output_type": "execute_result"
    }
   ],
   "source": [
    "np.sum(x), np.mean(x), np.std(x)"
   ]
  },
  {
   "cell_type": "markdown",
   "metadata": {},
   "source": [
    "You can also specify an axis over which to compute the sum if you want a vector of row/column sums (again, sum here can be replaced with mean or other operations):"
   ]
  },
  {
   "cell_type": "code",
   "execution_count": 52,
   "metadata": {},
   "outputs": [
    {
     "data": {
      "text/plain": [
       "(array([[0, 1],\n",
       "        [2, 3]]), array([2, 4]), array([1, 5]))"
      ]
     },
     "execution_count": 52,
     "metadata": {},
     "output_type": "execute_result"
    }
   ],
   "source": [
    "# Create an array with numbers in the range 0,...,3 (similar to the normal Python range function,\n",
    "# but it returns a NumPy array) and then reshape it to a 2x2 matrix\n",
    "B = np.arange(4).reshape((2,2))\n",
    "\n",
    "# Original matrix, column sum, row sum\n",
    "B, np.sum(B, axis=0), np.sum(B, axis=1)"
   ]
  },
  {
   "cell_type": "markdown",
   "metadata": {},
   "source": [
    "### Linear Algebra\n",
    "By now we have a pretty good idea of how data is stored and accessed within NumPy arrays. But we typically want to do something more \"interesting\", which for our ML purposes usually means linear algebra operations. Fortunately, numpy has good support for such routines. Let's see some examples!"
   ]
  },
  {
   "cell_type": "code",
   "execution_count": 53,
   "metadata": {},
   "outputs": [
    {
     "data": {
      "text/plain": [
       "array([-1.46484937,  1.73915607,  1.66688191, -6.88765983, -5.65922208,\n",
       "       -1.58471582,  4.87742889, -5.19720558,  0.56035524,  1.44086964])"
      ]
     },
     "execution_count": 53,
     "metadata": {},
     "output_type": "execute_result"
    }
   ],
   "source": [
    "# Matrix-vector product. The dimensions have to match, of course\n",
    "A.dot(x)\n",
    "# Note that in Python3 there is also a slick notation A @ x which does the same thing"
   ]
  },
  {
   "cell_type": "code",
   "execution_count": 54,
   "metadata": {},
   "outputs": [
    {
     "data": {
      "text/plain": [
       "array([[ 0.78947584,  0.63882492,  1.67977622, -2.24571715,  0.25904762,\n",
       "         0.38757136,  0.16112247,  0.3981081 , -0.9663187 , -1.09998386],\n",
       "       [-0.52682962, -1.04909477, -0.11117309, -0.78311993, -0.90001635,\n",
       "         0.77890101,  1.1891346 , -1.74925044, -0.39775697,  0.67697006],\n",
       "       [-2.19164938,  0.97511411, -0.40936971, -1.02918685, -0.06143389,\n",
       "        -3.26705488,  0.96717519, -0.2694531 ,  1.96516433,  0.67108404],\n",
       "       [-0.48198861, -1.45681214, -0.51953405,  3.16100679,  2.47963386,\n",
       "        -0.26913917, -1.0575688 ,  1.59379751, -0.5437474 ,  0.09721367],\n",
       "       [-0.0797222 , -0.32696091,  0.32016627,  0.43519054, -0.62412903,\n",
       "        -0.09545862,  0.67579041, -0.55538769, -0.65750085,  0.50813843]])"
      ]
     },
     "execution_count": 54,
     "metadata": {},
     "output_type": "execute_result"
    }
   ],
   "source": [
    "# Transpose a matrix\n",
    "A.T"
   ]
  },
  {
   "cell_type": "markdown",
   "metadata": {},
   "source": [
    "Now that you're familiar with numpy feel free to check out the documentation and see what else you can do! Documentation can be found here: https://docs.scipy.org/doc/"
   ]
  },
  {
   "cell_type": "markdown",
   "metadata": {
    "collapsed": true
   },
   "source": [
    "## Exercises \n",
    "Lets try out all the new numpy stuff we just learned! Even if you have experience in numpy we suggest trying these out. "
   ]
  },
  {
   "cell_type": "markdown",
   "metadata": {},
   "source": [
    "<b>1) Create a vector of size 10 containing zeros </b>"
   ]
  },
  {
   "cell_type": "code",
   "execution_count": 67,
   "metadata": {},
   "outputs": [
    {
     "data": {
      "text/plain": [
       "array([0., 0., 0., 0., 0., 0., 0., 0., 0., 0.])"
      ]
     },
     "execution_count": 67,
     "metadata": {},
     "output_type": "execute_result"
    }
   ],
   "source": [
    "v = np.zeros(10)\n",
    "v"
   ]
  },
  {
   "cell_type": "markdown",
   "metadata": {},
   "source": [
    "<b>2) Now change the fith value to be 5 </b>"
   ]
  },
  {
   "cell_type": "code",
   "execution_count": 68,
   "metadata": {},
   "outputs": [
    {
     "data": {
      "text/plain": [
       "array([0., 0., 0., 0., 5., 0., 0., 0., 0., 0.])"
      ]
     },
     "execution_count": 68,
     "metadata": {},
     "output_type": "execute_result"
    }
   ],
   "source": [
    "v[4] = 5\n",
    "v"
   ]
  },
  {
   "cell_type": "markdown",
   "metadata": {},
   "source": [
    "<b>3) Create a vector with values ranging from 10 to 49</b>"
   ]
  },
  {
   "cell_type": "code",
   "execution_count": 69,
   "metadata": {},
   "outputs": [
    {
     "data": {
      "text/plain": [
       "array([10, 11, 12, 13, 14, 15, 16, 17, 18, 19, 20, 21, 22, 23, 24, 25, 26,\n",
       "       27, 28, 29, 30, 31, 32, 33, 34, 35, 36, 37, 38, 39, 40, 41, 42, 43,\n",
       "       44, 45, 46, 47, 48, 49])"
      ]
     },
     "execution_count": 69,
     "metadata": {},
     "output_type": "execute_result"
    }
   ],
   "source": [
    "v2 = np.arange(10, 50)\n",
    "v2"
   ]
  },
  {
   "cell_type": "markdown",
   "metadata": {},
   "source": [
    "<b>4) Reverse the previous vector (first element becomes last)</b>"
   ]
  },
  {
   "cell_type": "code",
   "execution_count": 70,
   "metadata": {},
   "outputs": [
    {
     "data": {
      "text/plain": [
       "array([49, 11, 12, 13, 14, 15, 16, 17, 18, 19, 20, 21, 22, 23, 24, 25, 26,\n",
       "       27, 28, 29, 30, 31, 32, 33, 34, 35, 36, 37, 38, 39, 40, 41, 42, 43,\n",
       "       44, 45, 46, 47, 48, 10])"
      ]
     },
     "execution_count": 70,
     "metadata": {},
     "output_type": "execute_result"
    }
   ],
   "source": [
    "temp = v2[0]\n",
    "v2[0] = v2[len(v2) - 1]\n",
    "v2[len(v2) - 1] = temp\n",
    "v2"
   ]
  },
  {
   "cell_type": "markdown",
   "metadata": {},
   "source": [
    "<b>5) Create a 3x3 matrix with values ranging from 0 to 8. Create a 1D array first and then resshape it. </b<"
   ]
  },
  {
   "cell_type": "code",
   "execution_count": 71,
   "metadata": {},
   "outputs": [
    {
     "data": {
      "text/plain": [
       "array([[0, 1, 2],\n",
       "       [3, 4, 5],\n",
       "       [6, 7, 8]])"
      ]
     },
     "execution_count": 71,
     "metadata": {},
     "output_type": "execute_result"
    }
   ],
   "source": [
    "matrix = np.arange(0, 9).reshape((3, 3))\n",
    "matrix"
   ]
  },
  {
   "cell_type": "markdown",
   "metadata": {},
   "source": [
    "<b>6) Create a 3x3x3 array with random values</b>"
   ]
  },
  {
   "cell_type": "code",
   "execution_count": 74,
   "metadata": {},
   "outputs": [
    {
     "data": {
      "text/plain": [
       "array([[[ 4.54791547e-01, -1.81599337e+00, -6.58958174e-01],\n",
       "        [ 2.17111451e-02, -8.18374507e-01, -1.56687339e-01],\n",
       "        [ 8.95846490e-01,  3.09201831e-01,  2.56599031e-03]],\n",
       "\n",
       "       [[ 2.24914422e-01,  5.42331590e-01,  1.29973616e-01],\n",
       "        [ 1.34844795e+00,  9.61281079e-01,  2.32820281e-01],\n",
       "        [ 1.77333123e+00, -3.76490509e-01, -1.91979227e-01]],\n",
       "\n",
       "       [[ 9.58513691e-02, -5.23719093e-01,  3.69405337e-01],\n",
       "        [-4.80999294e-01,  1.18743155e+00,  1.59358359e+00],\n",
       "        [-3.49733678e+00, -2.67159450e-01,  2.21786850e-01]]])"
      ]
     },
     "execution_count": 74,
     "metadata": {},
     "output_type": "execute_result"
    }
   ],
   "source": [
    "matrix2 = np.random.randn(3, 3, 3)\n",
    "matrix2"
   ]
  },
  {
   "cell_type": "markdown",
   "metadata": {},
   "source": [
    "<b>7) Create a random array and find the sum, mean, and standard deviation</b>"
   ]
  },
  {
   "cell_type": "code",
   "execution_count": 86,
   "metadata": {},
   "outputs": [
    {
     "name": "stderr",
     "output_type": "stream",
     "text": [
      "/usr/local/lib/python3.7/site-packages/ipykernel_launcher.py:2: DeprecationWarning: This function is deprecated. Please call randint(1, 100 + 1) instead\n",
      "  \n"
     ]
    },
    {
     "data": {
      "text/plain": [
       "(array([-0.07047301,  1.16228496,  0.67948022,  1.53332046,  0.50792416,\n",
       "         0.03808644,  1.71446909,  1.04673937, -0.41938893, -0.95735097,\n",
       "        -0.49419548,  0.7137481 , -1.44553894, -0.60555122,  1.81117083,\n",
       "         0.8115128 ,  0.28499846,  0.42589143,  0.18508754,  0.65267992,\n",
       "        -1.34260018, -1.54893796, -0.70218455,  0.94519337,  0.40331808,\n",
       "         0.47870224,  0.20178884,  1.86589439,  0.3142547 , -0.0189747 ,\n",
       "        -0.32460339, -0.39565464,  1.16643133, -0.80542858,  0.22645361,\n",
       "        -0.73595409, -1.17909018,  0.26346791,  0.22478917, -0.33256792,\n",
       "        -0.83664938,  1.97866246, -1.14230718, -0.90796328, -0.83135377,\n",
       "         0.30514042,  0.64163474,  1.4089324 , -0.35829501,  0.47505987,\n",
       "         0.10009416, -0.37026001,  1.316804  ,  0.85201797,  1.60622876,\n",
       "        -0.2818417 ,  0.86256823, -0.44894686,  0.9809017 ,  0.21013916,\n",
       "        -0.82971361,  0.09411888,  1.29445734,  0.66651096, -2.1578697 ,\n",
       "        -0.51500444, -1.29248658,  0.83862866, -0.73070744, -0.25886667,\n",
       "        -0.34603741,  1.16937422, -0.84044095,  1.10201029, -1.04594051,\n",
       "         0.45070937,  0.75185658, -0.05102615, -0.71529018, -1.07670353]),\n",
       " 8.347338513145388,\n",
       " 0.10434173141431735,\n",
       " 0.9069029257976567)"
      ]
     },
     "execution_count": 86,
     "metadata": {},
     "output_type": "execute_result"
    }
   ],
   "source": [
    "# Create a random-sized array from 1 to 100 elements and get the sum, mean, std.\n",
    "array1 = np.random.randn(np.random.random_integers(1, 100))\n",
    "array1, np.sum(array1), np.mean(array1), np.std(array1)"
   ]
  },
  {
   "cell_type": "code",
   "execution_count": null,
   "metadata": {},
   "outputs": [],
   "source": []
  },
  {
   "cell_type": "code",
   "execution_count": null,
   "metadata": {},
   "outputs": [],
   "source": []
  }
 ],
 "metadata": {
  "anaconda-cloud": {},
  "kernelspec": {
   "display_name": "Python 3",
   "language": "python",
   "name": "python3"
  },
  "language_info": {
   "codemirror_mode": {
    "name": "ipython",
    "version": 3
   },
   "file_extension": ".py",
   "mimetype": "text/x-python",
   "name": "python",
   "nbconvert_exporter": "python",
   "pygments_lexer": "ipython3",
   "version": "3.7.3"
  }
 },
 "nbformat": 4,
 "nbformat_minor": 1
}
