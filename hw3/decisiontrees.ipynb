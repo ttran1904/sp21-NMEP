{
 "cells": [
  {
   "cell_type": "markdown",
   "metadata": {},
   "source": [
    "# Implent your own Decision Tree/Random Forest!\n",
    "\n",
    "\n",
    "In this python notebook, you will create a basic decision tree on pandas data, and train a classifier on the Iris dataset. Then, you will implement a type of bagging and create a random forest classifier!\n",
    "\n",
    "First, import the required modules:"
   ]
  },
  {
   "cell_type": "code",
   "execution_count": 41,
   "metadata": {},
   "outputs": [],
   "source": [
    "from sklearn.datasets import load_iris\n",
    "import pandas as pd\n",
    "import numpy as np"
   ]
  },
  {
   "cell_type": "markdown",
   "metadata": {},
   "source": [
    "Then import and preview the data:"
   ]
  },
  {
   "cell_type": "code",
   "execution_count": 42,
   "metadata": {},
   "outputs": [
    {
     "data": {
      "text/html": [
       "<div>\n",
       "<style scoped>\n",
       "    .dataframe tbody tr th:only-of-type {\n",
       "        vertical-align: middle;\n",
       "    }\n",
       "\n",
       "    .dataframe tbody tr th {\n",
       "        vertical-align: top;\n",
       "    }\n",
       "\n",
       "    .dataframe thead th {\n",
       "        text-align: right;\n",
       "    }\n",
       "</style>\n",
       "<table border=\"1\" class=\"dataframe\">\n",
       "  <thead>\n",
       "    <tr style=\"text-align: right;\">\n",
       "      <th></th>\n",
       "      <th>0</th>\n",
       "      <th>1</th>\n",
       "      <th>2</th>\n",
       "      <th>3</th>\n",
       "      <th>species</th>\n",
       "    </tr>\n",
       "  </thead>\n",
       "  <tbody>\n",
       "    <tr>\n",
       "      <th>0</th>\n",
       "      <td>5.1</td>\n",
       "      <td>3.5</td>\n",
       "      <td>1.4</td>\n",
       "      <td>0.2</td>\n",
       "      <td>0</td>\n",
       "    </tr>\n",
       "    <tr>\n",
       "      <th>1</th>\n",
       "      <td>4.9</td>\n",
       "      <td>3.0</td>\n",
       "      <td>1.4</td>\n",
       "      <td>0.2</td>\n",
       "      <td>0</td>\n",
       "    </tr>\n",
       "    <tr>\n",
       "      <th>2</th>\n",
       "      <td>4.7</td>\n",
       "      <td>3.2</td>\n",
       "      <td>1.3</td>\n",
       "      <td>0.2</td>\n",
       "      <td>0</td>\n",
       "    </tr>\n",
       "    <tr>\n",
       "      <th>3</th>\n",
       "      <td>4.6</td>\n",
       "      <td>3.1</td>\n",
       "      <td>1.5</td>\n",
       "      <td>0.2</td>\n",
       "      <td>0</td>\n",
       "    </tr>\n",
       "    <tr>\n",
       "      <th>4</th>\n",
       "      <td>5.0</td>\n",
       "      <td>3.6</td>\n",
       "      <td>1.4</td>\n",
       "      <td>0.2</td>\n",
       "      <td>0</td>\n",
       "    </tr>\n",
       "  </tbody>\n",
       "</table>\n",
       "</div>"
      ],
      "text/plain": [
       "     0    1    2    3  species\n",
       "0  5.1  3.5  1.4  0.2        0\n",
       "1  4.9  3.0  1.4  0.2        0\n",
       "2  4.7  3.2  1.3  0.2        0\n",
       "3  4.6  3.1  1.5  0.2        0\n",
       "4  5.0  3.6  1.4  0.2        0"
      ]
     },
     "execution_count": 42,
     "metadata": {},
     "output_type": "execute_result"
    }
   ],
   "source": [
    "iris = load_iris()\n",
    "df = pd.DataFrame(iris.data)\n",
    "df['species'] = iris.target \n",
    "df.head()"
   ]
  },
  {
   "cell_type": "markdown",
   "metadata": {},
   "source": [
    "We have four features labeled 0, 1, 2, and 3. These stand for the length and the width of the sepals and petals, in centimeters. We want to use these four features to predict whether the species is one of three types of Iris plant, labeled 0, 1, or 2. \n",
    "\n",
    "Now, we split the dataset into training and test samples."
   ]
  },
  {
   "cell_type": "code",
   "execution_count": 43,
   "metadata": {},
   "outputs": [],
   "source": [
    "df['is_train'] = np.random.uniform(0, 1, len(df)) <= .75\n",
    "train, test = df[df['is_train']==True], df[df['is_train']==False]\n",
    "train = train.drop(['is_train'], axis = 1)\n",
    "test = test.drop(['is_train'], axis = 1)"
   ]
  },
  {
   "cell_type": "markdown",
   "metadata": {},
   "source": [
    "# Disorder (Splitting Metric)\n",
    "\n",
    "First, we want to implement some measure of disorder in a set of data.\n",
    "\n",
    "Implement either information gain or GINI impurity discussed in class. (for reference the equations are in 189 notes here https://www.eecs189.org/static/notes/n25.pdf) \n",
    "\n",
    "\n",
    "The argument `data` is a pandas dataframe containing the features and labels of several data points. We calculate disorder based on the labels, or the last column of the data. Note: make sure that you make this function work for different data (i.e. your function should work for data of different dimensions)."
   ]
  },
  {
   "cell_type": "code",
   "execution_count": 44,
   "metadata": {},
   "outputs": [],
   "source": [
    "def disorder(data):\n",
    "    sum = 0\n",
    "    cat = [0, 1, 2, 3]\n",
    "    n = data.shape[0]\n",
    "    for i in cat:\n",
    "        prob = ( data[data['species'].isin([i])].shape[0] ) / n\n",
    "        sum += pow(prob, 2)\n",
    "    return 1 - sum"
   ]
  },
  {
   "cell_type": "markdown",
   "metadata": {},
   "source": [
    "We now create a split function. This function takes in a dataset, and indices for a row and column. We then return two dataframes split on the `column`th feature. The left dataset should contain all of the data where the `column`th feature is greater or equal to the `column`th feature of the `row`th datapoint, and the right should contain the rest. Use the disorder metric you implemented in the function above."
   ]
  },
  {
   "cell_type": "code",
   "execution_count": 106,
   "metadata": {},
   "outputs": [],
   "source": [
    "def split_on_row_column(data, row, column):\n",
    "    left = data[data[column] >= data.loc[row, column]]\n",
    "    right = data[data[column] < data.loc[row, column]]\n",
    "    return left, right\n",
    "\n",
    "# Find the best split by going through all the features and its rows.\n",
    "# Select one with the lowest disorder (minimize entropy)\n",
    "def find_best_split(data, cat):\n",
    "    min_disorder = 100\n",
    "    best_r, best_c = None, None\n",
    "    for col in cat:\n",
    "        for row in list(data.index.values):\n",
    "            l, r = split_on_row_column(df, row, col)\n",
    "            if l.shape[0] == 0:\n",
    "                total_disorder = disorder(r)\n",
    "            elif r.shape[0] == 0:\n",
    "                total_disorder = disorder(l)\n",
    "            else:\n",
    "                total_disorder = disorder(l) + disorder(r)\n",
    "            \n",
    "            if total_disorder < min_disorder:\n",
    "                min_disorder = total_disorder\n",
    "                best_r = row\n",
    "                best_c = col\n",
    "    return best_r, best_c"
   ]
  },
  {
   "cell_type": "markdown",
   "metadata": {},
   "source": [
    "We now want to define our recursive tree class. During training, there are two cases for a node. If the data is all one label, the node is a leaf node, and we return this value during inference. If the data is not all the same label, we find the best split of the data by iterating through all of features and rows in the data. Use the split function defined above to find the best split.\n",
    "\n",
    "Inference takes in a row of a pandas dataframes and returns the predicted class. "
   ]
  },
  {
   "cell_type": "code",
   "execution_count": 144,
   "metadata": {},
   "outputs": [],
   "source": [
    "class Node:\n",
    "    def __init__(self, data):\n",
    "        self.data = data\n",
    "        self.left = None\n",
    "        self.right = None\n",
    "        self.split_r = None\n",
    "        self.split_c = None\n",
    "        self.isLeaf = False\n",
    "    \n",
    "    def train(self):\n",
    "        if len(pd.Categorical(self.data[\"species\"]).unique()) == 1:\n",
    "            self.isLeaf = True\n",
    "        else:\n",
    "            columns = list(self.data.columns)\n",
    "            self.split_r, self.split_c = find_best_split(self.data, columns[0:len(columns)-1])\n",
    "            l, r = split_on_row_column(self.data, self.split_r, self.split_c)\n",
    "            self.left = Node(l)\n",
    "            self.right = Node(r)\n",
    "            if (self.right.data.shape[0] == 0):\n",
    "                self.left.isLeaf = True\n",
    "            elif(self.left.data.shape[0] == 0):\n",
    "                self.right.isLeaf = True\n",
    "            else:\n",
    "                self.left.train()\n",
    "                self.right.train()\n",
    "        pass\n",
    "   \n",
    "        \n",
    "    def inference(self, x):\n",
    "        if self.isLeaf:\n",
    "            return pd.Categorical(self.data[\"species\"]).unique()[0]\n",
    "        val = x[self.split_c]\n",
    "        key = self.data.loc[self.split_r, self.split_c]\n",
    "        if val >= key:\n",
    "            i = self.left.inference(x)\n",
    "            return i\n",
    "        elif val < key:\n",
    "            i = self.right.inference(x)\n",
    "            return i\n",
    "        return -1"
   ]
  },
  {
   "cell_type": "markdown",
   "metadata": {},
   "source": [
    "Now initialize and train a decision tree:"
   ]
  },
  {
   "cell_type": "code",
   "execution_count": 145,
   "metadata": {},
   "outputs": [],
   "source": [
    "tree = Node(train)\n",
    "tree.train()"
   ]
  },
  {
   "cell_type": "markdown",
   "metadata": {},
   "source": [
    "Note that we don't check the training accuracy here (why?). We now want to validate our tree on the test dataset:"
   ]
  },
  {
   "cell_type": "code",
   "execution_count": 49,
   "metadata": {},
   "outputs": [
    {
     "data": {
      "text/plain": [
       "0.9361702127659575"
      ]
     },
     "execution_count": 49,
     "metadata": {},
     "output_type": "execute_result"
    }
   ],
   "source": [
    "def validate(model, data):\n",
    "    ct = 0\n",
    "    corr = 0\n",
    "    for i in range(test.shape[0]):\n",
    "        data = test.iloc[i]\n",
    "        ct += 1\n",
    "        if model.inference(data) == data['species']:\n",
    "            corr += 1\n",
    "    return corr/ct\n",
    "\n",
    "validate(tree, test)"
   ]
  },
  {
   "cell_type": "markdown",
   "metadata": {},
   "source": [
    "## Random Forest!\n",
    "\n",
    "Now we will implement data bagging with a random forest! The set up is similar to a single tree. We pass in the data to the forest, along with hyperparameters `n`, `frac`, anbd `m`, which correspond to the number of trees, the fraction of the dataset to use in each bag, the number or percentage of random features (depending on your own implementation) selected at each possible split. Note that the difference between random forests and just bagging  is that random forests select a random subset of features per bag while bagging assumes all features are present in each sample. A good estimate for m in a dataset with `num_features` is m = sqrt(`num_features`). In the inference step we tally the number of votes from each decision tree and return the label with the most amount of votes."
   ]
  },
  {
   "cell_type": "code",
   "execution_count": 151,
   "metadata": {},
   "outputs": [],
   "source": [
    "class Forest:\n",
    "    def __init__(self, data, n, frac, m):\n",
    "        self.data = data\n",
    "        self.n = n\n",
    "        self.frac = frac\n",
    "        self.m = m\n",
    "    \n",
    "    def train(self):\n",
    "        self.trees = []\n",
    "        num_cols = len(list(self.data.columns))\n",
    "        for i in range(self.n):\n",
    "            tree = Node(pd.merge(self.data.iloc[:, 0:4].sample(frac=self.frac).sample(n=int(self.m*num_cols),axis='columns'), \n",
    "                                 self.data.iloc[:, 4], left_index=True, right_index=True))\n",
    "            tree.train()\n",
    "            self.trees.append(tree)\n",
    "    \n",
    "    def inference(self, x):\n",
    "        counter = {}\n",
    "        for t in self.trees:\n",
    "            infer = t.inference(x)\n",
    "            if infer in counter:\n",
    "                counter[infer] += 1\n",
    "            else:\n",
    "                counter[infer] = 1\n",
    "        res = {key: val for key, val in sorted(counter.items(), key = lambda ele: ele[1], reverse = True)} \n",
    "        return list(res)[0]\n",
    "#train.sample(frac= 0.5).sample(n=2, axis='columns').join(train.iloc[:, 4])\n",
    "#list(train.index.values)"
   ]
  },
  {
   "cell_type": "markdown",
   "metadata": {},
   "source": [
    "Train and validate your forest!"
   ]
  },
  {
   "cell_type": "code",
   "execution_count": 155,
   "metadata": {},
   "outputs": [],
   "source": [
    "forest = Forest(train, 30, .5, 0.5)\n",
    "forest.train()"
   ]
  },
  {
   "cell_type": "code",
   "execution_count": 156,
   "metadata": {},
   "outputs": [
    {
     "data": {
      "text/plain": [
       "0.723404255319149"
      ]
     },
     "execution_count": 156,
     "metadata": {},
     "output_type": "execute_result"
    }
   ],
   "source": [
    "validate(forest, test)"
   ]
  },
  {
   "cell_type": "code",
   "execution_count": null,
   "metadata": {},
   "outputs": [],
   "source": []
  }
 ],
 "metadata": {
  "kernelspec": {
   "display_name": "Python 3",
   "language": "python",
   "name": "python3"
  },
  "language_info": {
   "codemirror_mode": {
    "name": "ipython",
    "version": 3
   },
   "file_extension": ".py",
   "mimetype": "text/x-python",
   "name": "python",
   "nbconvert_exporter": "python",
   "pygments_lexer": "ipython3",
   "version": "3.8.5"
  }
 },
 "nbformat": 4,
 "nbformat_minor": 2
}
