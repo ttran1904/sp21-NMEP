{
 "cells": [
  {
   "cell_type": "code",
   "execution_count": 43,
   "metadata": {},
   "outputs": [],
   "source": [
    "import keras\n",
    "import numpy as np"
   ]
  },
  {
   "cell_type": "markdown",
   "metadata": {},
   "source": [
    "# Keras\n",
    "\n",
    "##### By: (The one and only) James Bartlett, Edited by Ashley Chien\n",
    "\n",
    "Keras is a neural network framework that wraps tensorflow (if you haven't heard of tensorflow it's another neural network framework) and makes it really simple to implement common neural networks. Its philosophy is to make simple things easy (but beware, trying to implement uncommon, custom neural networks can be pretty challenging in Keras, for the purposes of this course you will never have to that though so don't worry about it). If you are ever confused during this homework, Keras has really good documentation, so you can go to [Keras Docs](https://keras.io)."
   ]
  },
  {
   "cell_type": "markdown",
   "metadata": {},
   "source": [
    "# Datasets\n",
    "Keras has many datasets conveniently built in to the library. We can access them from the ``keras.datasets`` module. For this homework, we will be using their housing price dataset, their image classification dataset and their movie review sentiment dataset. To get a full list of their datasets, you can go to this link. [Keras Datasets](https://keras.io/datasets). To use their datasets, we import them and then call ``load_data()``, load_data returns two tuples, the first one is training data, and the second one is testing data. See the example below"
   ]
  },
  {
   "cell_type": "code",
   "execution_count": 44,
   "metadata": {},
   "outputs": [],
   "source": [
    "from keras.datasets import boston_housing\n",
    "(x_train, y_train), (x_test, y_test) = boston_housing.load_data()"
   ]
  },
  {
   "cell_type": "markdown",
   "metadata": {},
   "source": [
    "You can also choose the proportion of training data you would like."
   ]
  },
  {
   "cell_type": "code",
   "execution_count": 45,
   "metadata": {},
   "outputs": [
    {
     "name": "stdout",
     "output_type": "stream",
     "text": [
      "Size of training set before:  (404, 13)\n",
      "Size of training set after:  (455, 13)\n"
     ]
    }
   ],
   "source": [
    "print(\"Size of training set before: \", x_train.shape)\n",
    "(x_train, y_train), (x_test, y_test) = boston_housing.load_data(test_split=0.10)\n",
    "print(\"Size of training set after: \", x_train.shape)"
   ]
  },
  {
   "cell_type": "code",
   "execution_count": 46,
   "metadata": {},
   "outputs": [],
   "source": [
    "from keras.utils import normalize\n",
    "x_train = normalize(x_train, axis=1)\n",
    "x_test = normalize(x_test, axis=1)"
   ]
  },
  {
   "cell_type": "markdown",
   "metadata": {},
   "source": [
    "# Models\n",
    "Every thing in Keras starts out with a model. From an initial model, we can add layers, train the model on data, evaluate the model on test sets, etc. We initialize a model with ``Sequential()``. `Sequential` refers to the fact that the model has a sequence of layers. Personally, I have very rarely used anything other than `Sequential`, so I think it's all you really need to worry about."
   ]
  },
  {
   "cell_type": "code",
   "execution_count": 47,
   "metadata": {},
   "outputs": [],
   "source": [
    "from keras.models import Sequential\n",
    "model = Sequential()"
   ]
  },
  {
   "cell_type": "markdown",
   "metadata": {},
   "source": [
    "Once we have a model, we can add layers to it with ``model.add``. Keras has a really good range of layers we can use. For example, if we want a basic fully connected layer we can use ``Dense``. I will now run through an example of using Keras to build and train a fully connected neural network for the purposes of regressing on housing prices for the dataset we loaded earlier."
   ]
  },
  {
   "cell_type": "code",
   "execution_count": 48,
   "metadata": {},
   "outputs": [],
   "source": [
    "from keras.layers import Dense\n",
    "model.add(Dense(16, input_shape=(13,)))"
   ]
  },
  {
   "cell_type": "markdown",
   "metadata": {},
   "source": [
    "This line of code adds a fully connected layer with 16 neurons. For the first layer of any model we always have to specify the input shape. In our case we will be training a fully connected network on the Boston Housing data, so each data point has 13 features. That's why we use an input_shape of (13,). The nice part about Keras is other than the input_shape for the first layer, we don't have to worry about shapes the rest of the time, Keras takes care of it. This can be really useful when you are doing complicated convolutions and things like that where working out the input shape to the next layer can be non-trivial."
   ]
  },
  {
   "cell_type": "markdown",
   "metadata": {},
   "source": [
    "Now let's add an Activation function to our network after our first fully connected layer."
   ]
  },
  {
   "cell_type": "code",
   "execution_count": 49,
   "metadata": {},
   "outputs": [],
   "source": [
    "from keras.layers import Activation\n",
    "model.add(Activation('relu'))"
   ]
  },
  {
   "cell_type": "markdown",
   "metadata": {},
   "source": [
    "Simple as that. We just added a relu activation to the whole layer. To see a list of activation functions available in Keras go to [Keras Activations](https://keras.io/activations/). Now let's add the final layer in our model."
   ]
  },
  {
   "cell_type": "code",
   "execution_count": 50,
   "metadata": {},
   "outputs": [],
   "source": [
    "model.add(Dense(1))"
   ]
  },
  {
   "cell_type": "markdown",
   "metadata": {},
   "source": [
    "Now we can use a handy utility in Keras to print out what our model looks like so far."
   ]
  },
  {
   "cell_type": "code",
   "execution_count": 51,
   "metadata": {},
   "outputs": [
    {
     "name": "stdout",
     "output_type": "stream",
     "text": [
      "Model: \"sequential_5\"\n",
      "_________________________________________________________________\n",
      "Layer (type)                 Output Shape              Param #   \n",
      "=================================================================\n",
      "dense_8 (Dense)              (None, 16)                224       \n",
      "_________________________________________________________________\n",
      "activation_10 (Activation)   (None, 16)                0         \n",
      "_________________________________________________________________\n",
      "dense_9 (Dense)              (None, 1)                 17        \n",
      "=================================================================\n",
      "Total params: 241\n",
      "Trainable params: 241\n",
      "Non-trainable params: 0\n",
      "_________________________________________________________________\n"
     ]
    }
   ],
   "source": [
    "model.summary()"
   ]
  },
  {
   "cell_type": "markdown",
   "metadata": {},
   "source": [
    "You can see it shows us what layers we have, the output shapes of each layer, and how many parameters there are for each layer. All this information can be really useful when trying to debug a model, or even for sharing your model architecture with others."
   ]
  },
  {
   "cell_type": "markdown",
   "metadata": {},
   "source": [
    "# Training\n",
    "Now for actually training the model. Before we train a model we have to compile it. ``model.compile`` is how you specify which optimizer to use and what loss function to use. Sometimes choosing the right optimizer can have a significant effect on model performance. For a list of optimizers look at [Keras Optimizers](https://keras.io/optimizers). Choosing the right optimizer is mostly just trying each one to see which works better; there is some general advice for when to use each one but it is basically just another hyperparameter. We also have to choose a loss function. Choosing the right loss function is really important because the loss function decides what the goal of the model is. Since we are doing regression, we want to choose mean squared error, to get our output to be as close as possible to the label.  "
   ]
  },
  {
   "cell_type": "code",
   "execution_count": 52,
   "metadata": {},
   "outputs": [],
   "source": [
    "model.compile(optimizer='SGD', loss='mean_squared_error')"
   ]
  },
  {
   "cell_type": "markdown",
   "metadata": {},
   "source": [
    "Now we have to actually train our model on the data. This is really easy in Keras, in fact it only takes one line of code."
   ]
  },
  {
   "cell_type": "code",
   "execution_count": 53,
   "metadata": {},
   "outputs": [
    {
     "name": "stdout",
     "output_type": "stream",
     "text": [
      "Epoch 1/100\n",
      "15/15 [==============================] - 0s 957us/step - loss: 327.2267\n",
      "Epoch 2/100\n",
      "15/15 [==============================] - 0s 910us/step - loss: 71.3222\n",
      "Epoch 3/100\n",
      "15/15 [==============================] - 0s 2ms/step - loss: 80.3236\n",
      "Epoch 4/100\n",
      "15/15 [==============================] - 0s 1ms/step - loss: 64.3143\n",
      "Epoch 5/100\n",
      "15/15 [==============================] - 0s 919us/step - loss: 67.9594\n",
      "Epoch 6/100\n",
      "15/15 [==============================] - 0s 2ms/step - loss: 81.3379\n",
      "Epoch 7/100\n",
      "15/15 [==============================] - 0s 1ms/step - loss: 56.8617\n",
      "Epoch 8/100\n",
      "15/15 [==============================] - 0s 2ms/step - loss: 76.6030\n",
      "Epoch 9/100\n",
      "15/15 [==============================] - 0s 1ms/step - loss: 68.7279\n",
      "Epoch 10/100\n",
      "15/15 [==============================] - 0s 2ms/step - loss: 57.8213\n",
      "Epoch 11/100\n",
      "15/15 [==============================] - 0s 1ms/step - loss: 68.8902\n",
      "Epoch 12/100\n",
      "15/15 [==============================] - 0s 1ms/step - loss: 67.9485\n",
      "Epoch 13/100\n",
      "15/15 [==============================] - 0s 1ms/step - loss: 73.9865\n",
      "Epoch 14/100\n",
      "15/15 [==============================] - 0s 933us/step - loss: 64.4160\n",
      "Epoch 15/100\n",
      "15/15 [==============================] - 0s 1ms/step - loss: 87.6594\n",
      "Epoch 16/100\n",
      "15/15 [==============================] - 0s 2ms/step - loss: 63.6193\n",
      "Epoch 17/100\n",
      "15/15 [==============================] - 0s 1ms/step - loss: 70.3461\n",
      "Epoch 18/100\n",
      "15/15 [==============================] - 0s 2ms/step - loss: 70.1944\n",
      "Epoch 19/100\n",
      "15/15 [==============================] - 0s 1ms/step - loss: 58.9203\n",
      "Epoch 20/100\n",
      "15/15 [==============================] - 0s 2ms/step - loss: 71.9219\n",
      "Epoch 21/100\n",
      "15/15 [==============================] - 0s 912us/step - loss: 74.5857\n",
      "Epoch 22/100\n",
      "15/15 [==============================] - 0s 1ms/step - loss: 59.8404\n",
      "Epoch 23/100\n",
      "15/15 [==============================] - 0s 959us/step - loss: 60.3006\n",
      "Epoch 24/100\n",
      "15/15 [==============================] - 0s 1ms/step - loss: 64.5567\n",
      "Epoch 25/100\n",
      "15/15 [==============================] - 0s 2ms/step - loss: 61.7848\n",
      "Epoch 26/100\n",
      "15/15 [==============================] - 0s 1ms/step - loss: 60.7740\n",
      "Epoch 27/100\n",
      "15/15 [==============================] - 0s 1ms/step - loss: 58.9722\n",
      "Epoch 28/100\n",
      "15/15 [==============================] - 0s 2ms/step - loss: 78.0241\n",
      "Epoch 29/100\n",
      "15/15 [==============================] - 0s 1ms/step - loss: 62.4912\n",
      "Epoch 30/100\n",
      "15/15 [==============================] - 0s 973us/step - loss: 101.0827\n",
      "Epoch 31/100\n",
      "15/15 [==============================] - 0s 2ms/step - loss: 81.3873\n",
      "Epoch 32/100\n",
      "15/15 [==============================] - 0s 1ms/step - loss: 49.6551\n",
      "Epoch 33/100\n",
      "15/15 [==============================] - 0s 995us/step - loss: 168.0327\n",
      "Epoch 34/100\n",
      "15/15 [==============================] - 0s 1ms/step - loss: 52.5663\n",
      "Epoch 35/100\n",
      "15/15 [==============================] - 0s 1ms/step - loss: 67.4928\n",
      "Epoch 36/100\n",
      "15/15 [==============================] - 0s 1ms/step - loss: 76.9729\n",
      "Epoch 37/100\n",
      "15/15 [==============================] - 0s 1ms/step - loss: 59.5583\n",
      "Epoch 38/100\n",
      "15/15 [==============================] - 0s 1ms/step - loss: 58.7953\n",
      "Epoch 39/100\n",
      "15/15 [==============================] - 0s 963us/step - loss: 66.2860\n",
      "Epoch 40/100\n",
      "15/15 [==============================] - 0s 2ms/step - loss: 55.6695\n",
      "Epoch 41/100\n",
      "15/15 [==============================] - 0s 2ms/step - loss: 56.9935\n",
      "Epoch 42/100\n",
      "15/15 [==============================] - 0s 2ms/step - loss: 59.1653\n",
      "Epoch 43/100\n",
      "15/15 [==============================] - 0s 1ms/step - loss: 74.2600\n",
      "Epoch 44/100\n",
      "15/15 [==============================] - 0s 1ms/step - loss: 64.8878\n",
      "Epoch 45/100\n",
      "15/15 [==============================] - 0s 6ms/step - loss: 65.0743\n",
      "Epoch 46/100\n",
      "15/15 [==============================] - 0s 4ms/step - loss: 53.4933\n",
      "Epoch 47/100\n",
      "15/15 [==============================] - 0s 1ms/step - loss: 62.4352\n",
      "Epoch 48/100\n",
      "15/15 [==============================] - 0s 2ms/step - loss: 54.8018\n",
      "Epoch 49/100\n",
      "15/15 [==============================] - 0s 973us/step - loss: 63.2648\n",
      "Epoch 50/100\n",
      "15/15 [==============================] - 0s 889us/step - loss: 66.4000\n",
      "Epoch 51/100\n",
      "15/15 [==============================] - 0s 992us/step - loss: 59.1818\n",
      "Epoch 52/100\n",
      "15/15 [==============================] - 0s 896us/step - loss: 67.6435\n",
      "Epoch 53/100\n",
      "15/15 [==============================] - 0s 846us/step - loss: 71.8019\n",
      "Epoch 54/100\n",
      "15/15 [==============================] - 0s 2ms/step - loss: 64.3044\n",
      "Epoch 55/100\n",
      "15/15 [==============================] - 0s 1ms/step - loss: 73.0754\n",
      "Epoch 56/100\n",
      "15/15 [==============================] - 0s 1ms/step - loss: 51.4749\n",
      "Epoch 57/100\n",
      "15/15 [==============================] - 0s 1ms/step - loss: 54.6991\n",
      "Epoch 58/100\n",
      "15/15 [==============================] - 0s 3ms/step - loss: 56.4889\n",
      "Epoch 59/100\n",
      "15/15 [==============================] - 0s 2ms/step - loss: 59.7169\n",
      "Epoch 60/100\n",
      "15/15 [==============================] - 0s 1ms/step - loss: 63.0027\n",
      "Epoch 61/100\n",
      "15/15 [==============================] - 0s 2ms/step - loss: 66.8059\n",
      "Epoch 62/100\n",
      "15/15 [==============================] - 0s 2ms/step - loss: 62.6715\n",
      "Epoch 63/100\n",
      "15/15 [==============================] - 0s 2ms/step - loss: 60.2059\n",
      "Epoch 64/100\n",
      "15/15 [==============================] - 0s 3ms/step - loss: 61.6562\n",
      "Epoch 65/100\n",
      "15/15 [==============================] - 0s 3ms/step - loss: 62.3338\n",
      "Epoch 66/100\n",
      "15/15 [==============================] - 0s 2ms/step - loss: 50.7487\n",
      "Epoch 67/100\n",
      "15/15 [==============================] - 0s 974us/step - loss: 61.0273\n",
      "Epoch 68/100\n",
      "15/15 [==============================] - 0s 1ms/step - loss: 65.3198\n",
      "Epoch 69/100\n",
      "15/15 [==============================] - 0s 1ms/step - loss: 61.5236\n",
      "Epoch 70/100\n",
      "15/15 [==============================] - 0s 1ms/step - loss: 63.5113\n",
      "Epoch 71/100\n",
      "15/15 [==============================] - 0s 1ms/step - loss: 66.2547\n",
      "Epoch 72/100\n",
      "15/15 [==============================] - 0s 963us/step - loss: 66.3993\n",
      "Epoch 73/100\n",
      "15/15 [==============================] - 0s 912us/step - loss: 63.6925\n",
      "Epoch 74/100\n",
      "15/15 [==============================] - 0s 887us/step - loss: 55.0868\n",
      "Epoch 75/100\n",
      "15/15 [==============================] - 0s 930us/step - loss: 53.8390\n",
      "Epoch 76/100\n",
      "15/15 [==============================] - 0s 1ms/step - loss: 69.0569\n",
      "Epoch 77/100\n",
      "15/15 [==============================] - 0s 1ms/step - loss: 61.6125\n",
      "Epoch 78/100\n",
      "15/15 [==============================] - 0s 873us/step - loss: 72.6933\n",
      "Epoch 79/100\n",
      "15/15 [==============================] - 0s 993us/step - loss: 62.7724\n",
      "Epoch 80/100\n",
      "15/15 [==============================] - 0s 844us/step - loss: 59.1777\n",
      "Epoch 81/100\n",
      "15/15 [==============================] - 0s 854us/step - loss: 50.8673\n",
      "Epoch 82/100\n",
      "15/15 [==============================] - 0s 885us/step - loss: 71.5176\n",
      "Epoch 83/100\n",
      "15/15 [==============================] - 0s 2ms/step - loss: 60.9050\n",
      "Epoch 84/100\n",
      "15/15 [==============================] - 0s 1ms/step - loss: 64.5007\n",
      "Epoch 85/100\n",
      "15/15 [==============================] - 0s 2ms/step - loss: 61.8752\n",
      "Epoch 86/100\n",
      "15/15 [==============================] - 0s 898us/step - loss: 59.1421\n",
      "Epoch 87/100\n",
      "15/15 [==============================] - 0s 919us/step - loss: 56.0972\n",
      "Epoch 88/100\n",
      "15/15 [==============================] - 0s 1ms/step - loss: 82.2640\n",
      "Epoch 89/100\n",
      "15/15 [==============================] - 0s 904us/step - loss: 58.3026\n",
      "Epoch 90/100\n",
      "15/15 [==============================] - 0s 871us/step - loss: 61.1785\n",
      "Epoch 91/100\n",
      "15/15 [==============================] - 0s 877us/step - loss: 56.6698\n",
      "Epoch 92/100\n",
      "15/15 [==============================] - 0s 911us/step - loss: 72.6579\n",
      "Epoch 93/100\n",
      "15/15 [==============================] - 0s 911us/step - loss: 58.8632\n",
      "Epoch 94/100\n",
      "15/15 [==============================] - 0s 971us/step - loss: 57.4587\n",
      "Epoch 95/100\n",
      "15/15 [==============================] - 0s 1ms/step - loss: 61.6828\n",
      "Epoch 96/100\n",
      "15/15 [==============================] - 0s 949us/step - loss: 53.4975\n",
      "Epoch 97/100\n",
      "15/15 [==============================] - 0s 1ms/step - loss: 54.8762\n",
      "Epoch 98/100\n",
      "15/15 [==============================] - 0s 2ms/step - loss: 54.5294\n",
      "Epoch 99/100\n",
      "15/15 [==============================] - 0s 3ms/step - loss: 58.2456\n",
      "Epoch 100/100\n"
     ]
    },
    {
     "name": "stdout",
     "output_type": "stream",
     "text": [
      "15/15 [==============================] - 0s 4ms/step - loss: 63.5987\n"
     ]
    },
    {
     "data": {
      "text/plain": [
       "<tensorflow.python.keras.callbacks.History at 0x14a5b4c70>"
      ]
     },
     "execution_count": 53,
     "metadata": {},
     "output_type": "execute_result"
    }
   ],
   "source": [
    "model.fit(x_train, y_train, epochs=100)"
   ]
  },
  {
   "cell_type": "markdown",
   "metadata": {},
   "source": [
    "# Evaluation\n",
    "Now that we have trained our model we can evaluate it on our testing set. It is also just one line of code."
   ]
  },
  {
   "cell_type": "code",
   "execution_count": 54,
   "metadata": {},
   "outputs": [
    {
     "name": "stdout",
     "output_type": "stream",
     "text": [
      "Loss:  96.80284118652344\n"
     ]
    }
   ],
   "source": [
    "print(\"Loss: \", model.evaluate(x_test, y_test, verbose=0))"
   ]
  },
  {
   "cell_type": "markdown",
   "metadata": {},
   "source": [
    "This loss might seem very high and it is, mostly because there aren't very many training points in the dataset (also no effort was put into finding the best model)."
   ]
  },
  {
   "cell_type": "markdown",
   "metadata": {},
   "source": [
    "We can also generate predictions for new data that we don't have labels for. Since we don't have new data, I will just demonstrate the idea with our testing data."
   ]
  },
  {
   "cell_type": "code",
   "execution_count": 55,
   "metadata": {
    "scrolled": true
   },
   "outputs": [
    {
     "name": "stdout",
     "output_type": "stream",
     "text": [
      "[[29.915329]\n",
      " [23.400436]\n",
      " [28.433311]\n",
      " [31.61958 ]\n",
      " [31.640831]\n",
      " [23.569355]\n",
      " [32.316845]\n",
      " [35.121223]\n",
      " [31.137905]\n",
      " [23.98471 ]\n",
      " [23.677792]\n",
      " [19.003777]\n",
      " [27.98991 ]\n",
      " [30.722073]\n",
      " [35.84669 ]\n",
      " [21.823505]\n",
      " [34.693935]\n",
      " [21.308094]\n",
      " [23.189827]\n",
      " [23.96508 ]\n",
      " [32.15324 ]\n",
      " [24.057114]\n",
      " [22.047726]\n",
      " [32.428715]\n",
      " [30.08308 ]\n",
      " [30.550247]\n",
      " [30.949875]\n",
      " [34.612694]\n",
      " [22.654037]\n",
      " [29.31406 ]\n",
      " [31.914017]\n",
      " [29.922592]\n",
      " [23.475628]\n",
      " [29.523674]\n",
      " [29.45245 ]\n",
      " [23.745255]\n",
      " [29.364536]\n",
      " [30.339325]\n",
      " [24.45005 ]\n",
      " [30.439396]\n",
      " [32.307037]\n",
      " [32.150692]\n",
      " [32.330467]\n",
      " [34.77971 ]\n",
      " [26.4687  ]\n",
      " [31.539627]\n",
      " [23.702232]\n",
      " [29.14135 ]\n",
      " [27.570644]\n",
      " [29.367855]\n",
      " [22.992203]]\n"
     ]
    }
   ],
   "source": [
    "y_predicted = model.predict(x_test)\n",
    "print(y_predicted)"
   ]
  },
  {
   "cell_type": "markdown",
   "metadata": {},
   "source": [
    "That's it. We have successfully (depending on your definition of success) built a fully connected neural network and trained that network on a dataset. Now it's your turn!"
   ]
  },
  {
   "cell_type": "markdown",
   "metadata": {
    "collapsed": true
   },
   "source": [
    "# Problem 1: Image Classification\n",
    "We are going to build a convolutional neural network to predict image classes on CIFAR-10, a dataset of images of 10 different things (i.e. 10 classes). Things like airplanes, cars, deer, horses, etc. "
   ]
  },
  {
   "cell_type": "markdown",
   "metadata": {},
   "source": [
    "**(a)** Load the cifar10 dataset from Keras. If you need a hint go to [Keras Datasets](https://keras.io/datasets). This might take a little while to download."
   ]
  },
  {
   "cell_type": "code",
   "execution_count": 56,
   "metadata": {},
   "outputs": [],
   "source": [
    "from keras.datasets import cifar10\n",
    "(cifar_x_train, cifar_y_train), (cifar_x_test, cifar_y_test) = cifar10.load_data()"
   ]
  },
  {
   "cell_type": "markdown",
   "metadata": {},
   "source": [
    "**(b)** Initialize a Sequential model"
   ]
  },
  {
   "cell_type": "code",
   "execution_count": 201,
   "metadata": {},
   "outputs": [],
   "source": [
    "cifar_model = Sequential()"
   ]
  },
  {
   "cell_type": "markdown",
   "metadata": {},
   "source": [
    "**(c)** Add a ``Conv2D`` layer to the model. It should have 32 filters, a 5x5 kernel, and a 1x1 stride. The documentation [here](https://keras.io/layers/convolutional/#conv2d) will be your friend for this problem. __Hint:__ This is the first layer of the model so you have to specify the input shape. I recommend printing ``cifar_x_train.shape``, to get an idea of what the shape of the data looks like. Then add a ```relu``` activation layer to the model."
   ]
  },
  {
   "cell_type": "code",
   "execution_count": 202,
   "metadata": {},
   "outputs": [
    {
     "name": "stdout",
     "output_type": "stream",
     "text": [
      "(50000, 32, 32, 3)\n"
     ]
    }
   ],
   "source": [
    "from keras.layers.convolutional import Conv2D\n",
    "print(cifar_x_train.shape)\n",
    "cifar_model.add(Conv2D(32, (5,5), strides=(1,1), activation='relu', input_shape=(32, 32, 3)))"
   ]
  },
  {
   "cell_type": "markdown",
   "metadata": {},
   "source": [
    "**(d)** Add a ``MaxPooling2D`` layer to the model. The layer should have a 2x2 pool size. The documentation for Max Pooling is [here](https://keras.io/layers/pooling/)."
   ]
  },
  {
   "cell_type": "code",
   "execution_count": 203,
   "metadata": {},
   "outputs": [],
   "source": [
    "from keras.layers.pooling import MaxPooling2D\n",
    "cifar_model.add(MaxPooling2D((2, 2), input_shape=(14, 14, 32)))"
   ]
  },
  {
   "cell_type": "markdown",
   "metadata": {},
   "source": [
    "**(e)** Add another ``Conv2D`` identical to last one, then another ``relu`` activation, then another ``MaxPooling2D`` layer. __Hint:__ You've already written this code"
   ]
  },
  {
   "cell_type": "code",
   "execution_count": 204,
   "metadata": {},
   "outputs": [],
   "source": [
    "cifar_model.add(Conv2D(32, (5,5), strides=(1,1), activation='relu'))\n",
    "cifar_model.add(MaxPooling2D((2, 2), input_shape=(5, 5, 32)))"
   ]
  },
  {
   "cell_type": "markdown",
   "metadata": {},
   "source": [
    "**(f)** Add another ``Conv2D`` layer identical to the others except with 64 filters instead of 32. Add another ``relu`` activation layer."
   ]
  },
  {
   "cell_type": "code",
   "execution_count": 205,
   "metadata": {},
   "outputs": [],
   "source": [
    "cifar_model.add(Conv2D(64, (5,5), activation='relu', strides=(1,1)))"
   ]
  },
  {
   "cell_type": "markdown",
   "metadata": {},
   "source": [
    "**(g)** Now we want to move from 2D data to 1D vectors for classification, to this we have to flatten the data. Keras has a layer for this called [Flatten](https://keras.io/layers/core/#flatten). Then add a ``Dense`` (fully connected) layer with 64 neurons, a ``relu`` activation layer, another ``Dense`` layer with 10 neurons, and a ``softmax`` activation layer."
   ]
  },
  {
   "cell_type": "code",
   "execution_count": 206,
   "metadata": {},
   "outputs": [],
   "source": [
    "from keras.layers import Flatten\n",
    "from keras.layers import Softmax\n",
    "cifar_model.add(Flatten())\n",
    "cifar_model.add(Dense(64))\n",
    "cifar_model.add(Activation('relu'))\n",
    "cifar_model.add(Dense(10))\n",
    "cifar_model.add(Softmax())"
   ]
  },
  {
   "cell_type": "markdown",
   "metadata": {},
   "source": [
    "Notice that we have constructed a network that takes in an image and outputs a vector of 10 numbers and then we take the softmax of these, which leaves us with a vector of 0s except 1 one and the location of this one in the vector corresponds to which class the network is predicting for that image. This is sort of the canonical way of doing image classification."
   ]
  },
  {
   "cell_type": "markdown",
   "metadata": {},
   "source": [
    "**(h)** Now print a summary of your network."
   ]
  },
  {
   "cell_type": "code",
   "execution_count": 207,
   "metadata": {},
   "outputs": [
    {
     "name": "stdout",
     "output_type": "stream",
     "text": [
      "Model: \"sequential_24\"\n",
      "_________________________________________________________________\n",
      "Layer (type)                 Output Shape              Param #   \n",
      "=================================================================\n",
      "conv2d_53 (Conv2D)           (None, 28, 28, 32)        2432      \n",
      "_________________________________________________________________\n",
      "max_pooling2d_34 (MaxPooling (None, 14, 14, 32)        0         \n",
      "_________________________________________________________________\n",
      "conv2d_54 (Conv2D)           (None, 10, 10, 32)        25632     \n",
      "_________________________________________________________________\n",
      "max_pooling2d_35 (MaxPooling (None, 5, 5, 32)          0         \n",
      "_________________________________________________________________\n",
      "conv2d_55 (Conv2D)           (None, 1, 1, 64)          51264     \n",
      "_________________________________________________________________\n",
      "flatten_14 (Flatten)         (None, 64)                0         \n",
      "_________________________________________________________________\n",
      "dense_32 (Dense)             (None, 64)                4160      \n",
      "_________________________________________________________________\n",
      "activation_42 (Activation)   (None, 64)                0         \n",
      "_________________________________________________________________\n",
      "dense_33 (Dense)             (None, 10)                650       \n",
      "_________________________________________________________________\n",
      "softmax_14 (Softmax)         (None, 10)                0         \n",
      "=================================================================\n",
      "Total params: 84,138\n",
      "Trainable params: 84,138\n",
      "Non-trainable params: 0\n",
      "_________________________________________________________________\n"
     ]
    }
   ],
   "source": [
    "cifar_model.summary()"
   ]
  },
  {
   "cell_type": "markdown",
   "metadata": {},
   "source": [
    "**(i)** We need to convert our labels from integers to length 10 vectors with 9 zeros and 1 one, where the integer label is the index of the 1 in the vector. Luckily, Keras has a handy function to do this for us. Have a look [here](https://keras.io/utils/#to_categorical)."
   ]
  },
  {
   "cell_type": "code",
   "execution_count": 208,
   "metadata": {},
   "outputs": [],
   "source": [
    "from keras.utils import to_categorical\n",
    "y_train_cat = to_categorical(cifar_y_train, num_classes=10)\n",
    "y_test_cat = to_categorical(cifar_y_test, num_classes=10)"
   ]
  },
  {
   "cell_type": "markdown",
   "metadata": {},
   "source": [
    "**(j)** Now compile the model with SGD optimizer and categorical_crossentropy loss function and also include ``metrics=['accuracy']`` as a parameter so we can see the accuracy of the model. Then train the model on the training data. For training we want to weight the classes in the loss function, so set the ``class_weight`` parameter of fit to be the ``class_weights`` dictionary. Be warned training can take forever, I trained on a cpu for 20 epochs (about 30 minutes) and only got 20% accuracy. For the purposes of this assignment, you don't need to worry to much about accuracy, just train for at least 1 epoch."
   ]
  },
  {
   "cell_type": "code",
   "execution_count": 209,
   "metadata": {},
   "outputs": [],
   "source": [
    "cifar_model.compile(optimizer='SGD', loss='categorical_crossentropy', metrics = ['accuracy'])"
   ]
  },
  {
   "cell_type": "code",
   "execution_count": 211,
   "metadata": {},
   "outputs": [
    {
     "name": "stdout",
     "output_type": "stream",
     "text": [
      "1563/1563 [==============================] - 51s 33ms/step - loss: 7.3838e-04 - accuracy: 0.1305\n"
     ]
    },
    {
     "data": {
      "text/plain": [
       "<tensorflow.python.keras.callbacks.History at 0x13f2e2910>"
      ]
     },
     "execution_count": 211,
     "metadata": {},
     "output_type": "execute_result"
    }
   ],
   "source": [
    "class_weights = {}\n",
    "for i in range(10):\n",
    "    class_weights[i] = 1. / np.where(cifar_y_train==i)[0].size\n",
    "    \n",
    "cifar_model.fit(cifar_x_train, y_train_cat, epochs=1, class_weight=class_weights)"
   ]
  },
  {
   "cell_type": "markdown",
   "metadata": {},
   "source": [
    "Now we can evaluate on our test set."
   ]
  },
  {
   "cell_type": "code",
   "execution_count": 212,
   "metadata": {},
   "outputs": [
    {
     "name": "stdout",
     "output_type": "stream",
     "text": [
      "313/313 [==============================] - 3s 8ms/step - loss: 2.9833 - accuracy: 0.1404\n"
     ]
    },
    {
     "data": {
      "text/plain": [
       "[2.9833109378814697, 0.1404000073671341]"
      ]
     },
     "execution_count": 212,
     "metadata": {},
     "output_type": "execute_result"
    }
   ],
   "source": [
    "cifar_model.evaluate(cifar_x_test, y_test_cat)"
   ]
  },
  {
   "cell_type": "markdown",
   "metadata": {},
   "source": [
    "We can also get the class labels the network predicts on our test set and look at a few examples."
   ]
  },
  {
   "cell_type": "code",
   "execution_count": 213,
   "metadata": {},
   "outputs": [
    {
     "name": "stdout",
     "output_type": "stream",
     "text": [
      "Predicted label:  6\n",
      "True label:  [1]\n"
     ]
    },
    {
     "data": {
      "image/png": "[encoded data removed]",
      "text/plain": [
       "<Figure size 432x288 with 1 Axes>"
      ]
     },
     "metadata": {
      "needs_background": "light"
     },
     "output_type": "display_data"
    }
   ],
   "source": [
    "y_pred = cifar_model.predict(cifar_x_test)\n",
    "import matplotlib.pyplot as plt\n",
    "%matplotlib inline\n",
    "plt.imshow(cifar_x_test[1234])\n",
    "print(\"Predicted label: \", np.argmax(y_pred[1234]))\n",
    "print(\"True label: \", cifar_y_test[1234])"
   ]
  },
  {
   "cell_type": "markdown",
   "metadata": {},
   "source": [
    "# Problem 2: Sentiment Classification"
   ]
  },
  {
   "cell_type": "markdown",
   "metadata": {},
   "source": [
    "In this problem we will use Kera's imdb sentiment dataset. You will take in sequences of words and use an RNN to try to classify the sequences sentiment. First we have to process the data a little bit, so that we have fixed length sequences."
   ]
  },
  {
   "cell_type": "code",
   "execution_count": 214,
   "metadata": {},
   "outputs": [
    {
     "name": "stdout",
     "output_type": "stream",
     "text": [
      "Downloading data from https://storage.googleapis.com/tensorflow/tf-keras-datasets/imdb.npz\n",
      "17465344/17464789 [==============================] - 2s 0us/step\n"
     ]
    },
    {
     "name": "stderr",
     "output_type": "stream",
     "text": [
      "<__array_function__ internals>:5: VisibleDeprecationWarning: Creating an ndarray from ragged nested sequences (which is a list-or-tuple of lists-or-tuples-or ndarrays with different lengths or shapes) is deprecated. If you meant to do this, you must specify 'dtype=object' when creating the ndarray\n",
      "/Users/EmiBom/opt/anaconda3/lib/python3.8/site-packages/tensorflow/python/keras/datasets/imdb.py:159: VisibleDeprecationWarning: Creating an ndarray from ragged nested sequences (which is a list-or-tuple of lists-or-tuples-or ndarrays with different lengths or shapes) is deprecated. If you meant to do this, you must specify 'dtype=object' when creating the ndarray\n",
      "  x_train, y_train = np.array(xs[:idx]), np.array(labels[:idx])\n",
      "/Users/EmiBom/opt/anaconda3/lib/python3.8/site-packages/tensorflow/python/keras/datasets/imdb.py:160: VisibleDeprecationWarning: Creating an ndarray from ragged nested sequences (which is a list-or-tuple of lists-or-tuples-or ndarrays with different lengths or shapes) is deprecated. If you meant to do this, you must specify 'dtype=object' when creating the ndarray\n",
      "  x_test, y_test = np.array(xs[idx:]), np.array(labels[idx:])\n"
     ]
    }
   ],
   "source": [
    "from keras.datasets import imdb\n",
    "(x_train, y_train), (x_test, y_test) = imdb.load_data(num_words=1000, maxlen=200)"
   ]
  },
  {
   "cell_type": "code",
   "execution_count": 215,
   "metadata": {},
   "outputs": [],
   "source": [
    "def process_data(data):\n",
    "    processed = np.zeros(len(data) * 200).reshape((len(data), 200))\n",
    "    for i, seq in enumerate(data):\n",
    "        if len(seq) < 200:\n",
    "            processed[i] = np.array(seq + [0 for _ in range(200 - len(seq))])\n",
    "        else:\n",
    "            processed[i] = np.array(seq)\n",
    "    return processed"
   ]
  },
  {
   "cell_type": "code",
   "execution_count": 216,
   "metadata": {},
   "outputs": [
    {
     "name": "stdout",
     "output_type": "stream",
     "text": [
      "(14669, 200)\n"
     ]
    }
   ],
   "source": [
    "x_train_proc = process_data(x_train)\n",
    "x_test_proc = process_data(x_test)\n",
    "print(x_test_proc.shape)"
   ]
  },
  {
   "cell_type": "markdown",
   "metadata": {},
   "source": [
    "The Embedding Layer is a little bit different from most of the layers, so we have provided that code for you below. Basically, the 1000 means that we are using a vocabulary size of 1000, the 32 means we will have a vector of size 32 as the output, and the `mask_zero` means that we don't care about 0 because we are using it for padding."
   ]
  },
  {
   "cell_type": "code",
   "execution_count": 220,
   "metadata": {},
   "outputs": [],
   "source": [
    "imdb_model = Sequential()"
   ]
  },
  {
   "cell_type": "code",
   "execution_count": 221,
   "metadata": {},
   "outputs": [],
   "source": [
    "from keras.layers.embeddings import Embedding\n",
    "imdb_model.add(Embedding(1000, 32, input_length=200, mask_zero=True))"
   ]
  },
  {
   "cell_type": "markdown",
   "metadata": {},
   "source": [
    "**(a)** For this problem, I won't walk you everything like I did in the last one. What you need to do is as follows. Add an LSTM layer with 32 outputs, then a Dense layer with 32 neurons, then a relu activation, then a dense layer with 1 neuron, then a sigmoid activation. Then you should print out the model summary."
   ]
  },
  {
   "cell_type": "code",
   "execution_count": 222,
   "metadata": {},
   "outputs": [
    {
     "name": "stdout",
     "output_type": "stream",
     "text": [
      "Model: \"sequential_26\"\n",
      "_________________________________________________________________\n",
      "Layer (type)                 Output Shape              Param #   \n",
      "=================================================================\n",
      "embedding_1 (Embedding)      (None, 200, 32)           32000     \n",
      "_________________________________________________________________\n",
      "lstm (LSTM)                  (None, 32)                8320      \n",
      "_________________________________________________________________\n",
      "dense_34 (Dense)             (None, 32)                1056      \n",
      "_________________________________________________________________\n",
      "activation_43 (Activation)   (None, 32)                0         \n",
      "_________________________________________________________________\n",
      "dense_35 (Dense)             (None, 1)                 33        \n",
      "_________________________________________________________________\n",
      "activation_44 (Activation)   (None, 1)                 0         \n",
      "=================================================================\n",
      "Total params: 41,409\n",
      "Trainable params: 41,409\n",
      "Non-trainable params: 0\n",
      "_________________________________________________________________\n"
     ]
    }
   ],
   "source": [
    "from keras.layers import LSTM\n",
    "imdb_model.add(LSTM(32))\n",
    "imdb_model.add(Dense(32))\n",
    "imdb_model.add(Activation('relu'))\n",
    "imdb_model.add(Dense(1))\n",
    "imdb_model.add(Activation('sigmoid'))\n",
    "imdb_model.summary()"
   ]
  },
  {
   "cell_type": "markdown",
   "metadata": {},
   "source": [
    "**(b)** Now compile the model with binary cross entropy, and the Adam optimizer. Also include accuracy as a metric in the compile. Then train the model on the processed data (no need to worry about class weights this time)"
   ]
  },
  {
   "cell_type": "code",
   "execution_count": 223,
   "metadata": {},
   "outputs": [],
   "source": [
    "imdb_model.compile(optimizer='adam', loss='binary_crossentropy', metrics = ['accuracy'])"
   ]
  },
  {
   "cell_type": "markdown",
   "metadata": {},
   "source": [
    "After training we can evaluate our model on the test set."
   ]
  },
  {
   "cell_type": "code",
   "execution_count": 224,
   "metadata": {},
   "outputs": [
    {
     "name": "stdout",
     "output_type": "stream",
     "text": [
      "459/459 [==============================] - 15s 28ms/step - loss: 0.6932 - accuracy: 0.4903\n",
      "Accuracy:  0.4916490614414215\n"
     ]
    }
   ],
   "source": [
    "print(\"Accuracy: \", imdb_model.evaluate(x_test_proc, y_test)[1])"
   ]
  },
  {
   "cell_type": "markdown",
   "metadata": {},
   "source": [
    "Now we can look at our predictions and the sentences they correspond to."
   ]
  },
  {
   "cell_type": "code",
   "execution_count": 225,
   "metadata": {},
   "outputs": [],
   "source": [
    "y_pred = imdb_model.predict(x_test_proc)"
   ]
  },
  {
   "cell_type": "code",
   "execution_count": 226,
   "metadata": {},
   "outputs": [
    {
     "name": "stdout",
     "output_type": "stream",
     "text": [
      "Downloading data from https://storage.googleapis.com/tensorflow/tf-keras-datasets/imdb_word_index.json\n",
      "1646592/1641221 [==============================] - 0s 0us/step\n",
      "['the', 'as', 'on', 'it', 'so', 'heart', 'must', 'of', 'guy', 'it', 'movies', 'makes', 'what', 'and', 'character', 'that', 'up', 'been', 'true', 'have', 'into', 'use', 'that', 'up', 'old', 'of', 'must', 'they', 'gets', 'it', \"aren't\", 'not', 'that', 'had', 'find', 'and', 'dark', 'and', 'and', 'to', 'and', 'and', 'one', 'dead', 'and', 'in', 'were', 'god', 'watch', 'and', 'was', 'one', 'his', 'saw', 'light', 'think', 'and', 'on', 'really', 'with', 'movie', 'makes', 'movie', 'as']\n"
     ]
    }
   ],
   "source": [
    "y_pred = np.vectorize(lambda x: int(x >= 0.5))(y_pred)\n",
    "correct = []\n",
    "incorrect = []\n",
    "for i, pred in enumerate(y_pred):\n",
    "    if y_test[i] == pred:\n",
    "        correct.append(i)\n",
    "    else:\n",
    "        incorrect.append(i)\n",
    "word_dict = inv_map = {v: k for k, v in imdb.get_word_index().items()}\n",
    "\n",
    "print(list(map(lambda x: word_dict[int(x)] if x != 0 else None, x_test[correct[123]])))"
   ]
  },
  {
   "cell_type": "markdown",
   "metadata": {},
   "source": [
    "After making this I realized that `keras`'s method for converting from word index back to words is broken right now (see this open [github issue](https://github.com/fchollet/keras/issues/5912)). So we can't actually see what the sentences look like."
   ]
  }
 ],
 "metadata": {
  "anaconda-cloud": {},
  "kernelspec": {
   "display_name": "Python 3",
   "language": "python",
   "name": "python3"
  },
  "language_info": {
   "codemirror_mode": {
    "name": "ipython",
    "version": 3
   },
   "file_extension": ".py",
   "mimetype": "text/x-python",
   "name": "python",
   "nbconvert_exporter": "python",
   "pygments_lexer": "ipython3",
   "version": "3.8.5"
  }
 },
 "nbformat": 4,
 "nbformat_minor": 1
}
