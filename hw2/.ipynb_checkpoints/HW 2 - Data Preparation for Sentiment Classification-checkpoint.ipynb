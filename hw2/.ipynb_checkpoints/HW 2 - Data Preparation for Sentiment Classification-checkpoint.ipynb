{
 "cells": [
  {
   "cell_type": "markdown",
   "metadata": {},
   "source": [
    "# HW 2: Data Preparation for Sentiment Classification"
   ]
  },
  {
   "cell_type": "markdown",
   "metadata": {},
   "source": [
    "In this homework we will prepare the IMDB movie review sentiment dataset. We will prepare it to fit a model that will predict whether a new review has a positive or negative sentiment. \n",
    "\n",
    "**Start by downloading the IMDB_Dataset from the .csv file into a pandas DataFrame**"
   ]
  },
  {
   "cell_type": "code",
   "execution_count": 430,
   "metadata": {},
   "outputs": [],
   "source": [
    "import pandas as pd\n",
    "import numpy as np\n",
    "\n",
    "#Download the dataset into a Pandas DataFrame and display the first 5 rows\n",
    "## YOUR CODE HERE\n",
    "imdb = pd.read_csv(\"IMDB_Dataset.csv\")"
   ]
  },
  {
   "cell_type": "markdown",
   "metadata": {},
   "source": [
    "We have to process the data first, so that we have fixed length sequences."
   ]
  },
  {
   "cell_type": "markdown",
   "metadata": {},
   "source": [
    "<b>We want to split the dataset into reviews and labels. </b>"
   ]
  },
  {
   "cell_type": "code",
   "execution_count": 431,
   "metadata": {},
   "outputs": [],
   "source": [
    "imdb_x = imdb['review']\n",
    "imdb_y = imdb['sentiment']"
   ]
  },
  {
   "cell_type": "code",
   "execution_count": 432,
   "metadata": {},
   "outputs": [],
   "source": [
    "# Paste the toBinary function created in HW 1 from this hw set (week 2)\n",
    "def toBinary(data, positive):\n",
    "    ## YOUR CODE HERE\n",
    "    n = data.apply(lambda x: 1 if (x == positive) else 0)\n",
    "    imdb[data.name] = n\n",
    "    return n"
   ]
  },
  {
   "cell_type": "markdown",
   "metadata": {},
   "source": [
    "**Use the toBinary method to tranform the sentiment column into binary, 1 for positive and 0 for negative.**"
   ]
  },
  {
   "cell_type": "code",
   "execution_count": 433,
   "metadata": {},
   "outputs": [
    {
     "data": {
      "text/html": [
       "<div>\n",
       "<style scoped>\n",
       "    .dataframe tbody tr th:only-of-type {\n",
       "        vertical-align: middle;\n",
       "    }\n",
       "\n",
       "    .dataframe tbody tr th {\n",
       "        vertical-align: top;\n",
       "    }\n",
       "\n",
       "    .dataframe thead th {\n",
       "        text-align: right;\n",
       "    }\n",
       "</style>\n",
       "<table border=\"1\" class=\"dataframe\">\n",
       "  <thead>\n",
       "    <tr style=\"text-align: right;\">\n",
       "      <th></th>\n",
       "      <th>review</th>\n",
       "      <th>sentiment</th>\n",
       "    </tr>\n",
       "  </thead>\n",
       "  <tbody>\n",
       "    <tr>\n",
       "      <th>0</th>\n",
       "      <td>One of the other reviewers has mentioned that ...</td>\n",
       "      <td>1</td>\n",
       "    </tr>\n",
       "    <tr>\n",
       "      <th>1</th>\n",
       "      <td>A wonderful little production. &lt;br /&gt;&lt;br /&gt;The...</td>\n",
       "      <td>1</td>\n",
       "    </tr>\n",
       "    <tr>\n",
       "      <th>2</th>\n",
       "      <td>I thought this was a wonderful way to spend ti...</td>\n",
       "      <td>1</td>\n",
       "    </tr>\n",
       "    <tr>\n",
       "      <th>3</th>\n",
       "      <td>Basically there's a family where a little boy ...</td>\n",
       "      <td>0</td>\n",
       "    </tr>\n",
       "    <tr>\n",
       "      <th>4</th>\n",
       "      <td>Petter Mattei's \"Love in the Time of Money\" is...</td>\n",
       "      <td>1</td>\n",
       "    </tr>\n",
       "  </tbody>\n",
       "</table>\n",
       "</div>"
      ],
      "text/plain": [
       "                                              review  sentiment\n",
       "0  One of the other reviewers has mentioned that ...          1\n",
       "1  A wonderful little production. <br /><br />The...          1\n",
       "2  I thought this was a wonderful way to spend ti...          1\n",
       "3  Basically there's a family where a little boy ...          0\n",
       "4  Petter Mattei's \"Love in the Time of Money\" is...          1"
      ]
     },
     "execution_count": 433,
     "metadata": {},
     "output_type": "execute_result"
    }
   ],
   "source": [
    "imdb_y = toBinary(imdb_y, 'positive')\n",
    "imdb.head()"
   ]
  },
  {
   "cell_type": "markdown",
   "metadata": {},
   "source": [
    "\"Lemmatization is the process of converting a word to its base form. The difference between stemming and lemmatization is, lemmatization considers the context and converts the word to its meaningful base form, whereas stemming just removes the last few characters, often leading to incorrect meanings and spelling errors.\"\n",
    "    https://www.machinelearningplus.com/nlp/lemmatization-examples-python/\n",
    "\n",
    "<b>Lemmatize the sentences using any library from the article. Make sure to filter out non-alphabetical characters. </b>"
   ]
  },
  {
   "cell_type": "code",
   "execution_count": 434,
   "metadata": {},
   "outputs": [],
   "source": [
    "## YOUR IMPORT STATEMENTS\n",
    "import nltk\n",
    "from nltk.stem import WordNetLemmatizer \n",
    "import re"
   ]
  },
  {
   "cell_type": "code",
   "execution_count": 435,
   "metadata": {},
   "outputs": [],
   "source": [
    "def Lemmatize(data):\n",
    "    # Init the Wordnet Lemmatizer\n",
    "    data = data.str.split(\" |,|<br /><br />|\\\"|\\'|!\") # splits the data from sentences to words, feel free to change\n",
    "    lemmatizer = WordNetLemmatizer()\n",
    "    regex = re.compile('[^a-zA-Z]')\n",
    "\n",
    "    # YOUR CODE HERE\n",
    "    #data.apply(lambda lst: [lemmatizer.lemmatize(w) for w in lst])\n",
    "    \n",
    "    all_reviews = []\n",
    "    for s in data:\n",
    "        sentence = [(lemmatizer.lemmatize(regex.sub('', w))) for w in s]\n",
    "        all_reviews.append(sentence)\n",
    "    return pd.Series(all_reviews)\n",
    "\n",
    "imdb_x = Lemmatize(imdb_x)"
   ]
  },
  {
   "cell_type": "code",
   "execution_count": 436,
   "metadata": {},
   "outputs": [
    {
     "name": "stdout",
     "output_type": "stream",
     "text": [
      "0        [One, of, the, other, reviewer, ha, mentioned,...\n",
      "1        [A, wonderful, little, production, , The, film...\n",
      "2        [I, thought, this, wa, a, wonderful, way, to, ...\n",
      "3        [Basically, there, s, a, family, where, a, lit...\n",
      "4        [Petter, Mattei, s, , Love, in, the, Time, of,...\n",
      "                               ...                        \n",
      "49995    [I, thought, this, movie, did, a, down, right,...\n",
      "49996    [Bad, plot, , bad, dialogue, , bad, acting, , ...\n",
      "49997    [I, am, a, Catholic, taught, in, parochial, el...\n",
      "49998    [I, m, going, to, have, to, disagree, with, th...\n",
      "49999    [No, one, expects, the, Star, Trek, movie, to,...\n",
      "Name: review, Length: 50000, dtype: object\n"
     ]
    }
   ],
   "source": [
    "imdb_x = imdb_x.rename('review')\n",
    "print(imdb_x)"
   ]
  },
  {
   "cell_type": "markdown",
   "metadata": {},
   "source": [
    "The data has to be put into integer form, so each integer represents a unique word, 0 represents a PAD character, 1 represents a START character and 2 represents a character that is unknown because it is not in the top `num_words`. \n",
    "Thus 3 represents the first real word. \n",
    "\n",
    "Also the words should be in decreasing order of frequency, so the word that 3 represents is the most common word in the dataset. "
   ]
  },
  {
   "cell_type": "markdown",
   "metadata": {},
   "source": [
    "Complete CreateDict which will take in a data column <br>\n",
    "    1) Create a Dict that maps {Word: Apperances in dataset} \n",
    "       <i> Do not implement dictionary keys for PAD, START, and unknown characters (except \"\" see hint), this will be done later. </i>\n",
    "<br>\n",
    "    2) Choose the top N most recurring words and give ascending indexes starting at 3 <br>"
   ]
  },
  {
   "cell_type": "code",
   "execution_count": 437,
   "metadata": {},
   "outputs": [],
   "source": [
    "from itertools import islice\n",
    "\n",
    "numWords = 1000\n",
    "\n",
    "def CreateDict(data, topN):\n",
    "    # YOUR CODE HERE\n",
    "     \n",
    "    ##Hint: \"\" (or the empty string) is actually \n",
    "    ### the most common word but we want to cast it as an unknown word, what index should we index it as then?\n",
    "    max_num = 0\n",
    "    d = {}\n",
    "    \n",
    "    for review_lst in data.items():\n",
    "        for w in review_lst[1]:\n",
    "            #print(w)\n",
    "            if w == \"\":\n",
    "                continue\n",
    "            elif w in d:\n",
    "                d[w] += 1\n",
    "            else:\n",
    "                d[w] = 1\n",
    "            max_num = max(d[w], max_num)\n",
    "    \n",
    "    d = {key: val for key, val in sorted(d.items(), key = lambda ele: ele[1], reverse = True)} \n",
    "    d = list(islice(d.items(), topN - 3))\n",
    "    d_new = {}\n",
    "    \n",
    "    i = 3\n",
    "    for tup in d:\n",
    "        d_new[tup[0]] = i\n",
    "        i += 1\n",
    "    d_new[''] = 2\n",
    "    return d_new\n",
    "    \n",
    "wordCounter = CreateDict(imdb_x, numWords)"
   ]
  },
  {
   "cell_type": "code",
   "execution_count": 438,
   "metadata": {},
   "outputs": [
    {
     "name": "stdout",
     "output_type": "stream",
     "text": [
      "998\n",
      "999\n"
     ]
    }
   ],
   "source": [
    "print(len(wordCounter))\n",
    "maximum_val = max(wordCounter, key=wordCounter.get)\n",
    "print(wordCounter[maximum_val])"
   ]
  },
  {
   "cell_type": "markdown",
   "metadata": {},
   "source": [
    "Complete  replaceByIndex which will replace known words with their index and unknown words with a 2."
   ]
  },
  {
   "cell_type": "code",
   "execution_count": 439,
   "metadata": {},
   "outputs": [],
   "source": [
    "def replaceByIndex(data, wordCounter):\n",
    "    \n",
    "    # YOUR CODE HERE\n",
    "    \n",
    "    def replace(lst):\n",
    "        new_lst = []\n",
    "        for w in lst:\n",
    "            index = wordCounter.get(w, -1)\n",
    "            if index == -1:\n",
    "                new_lst.append(2)\n",
    "            else:\n",
    "                new_lst.append(index)\n",
    "        return new_lst\n",
    "        \n",
    "    d = data.apply(lambda x : replace(x))\n",
    "    return d\n",
    "\n",
    "imdb_x = replaceByIndex(imdb_x, wordCounter)"
   ]
  },
  {
   "cell_type": "code",
   "execution_count": 440,
   "metadata": {},
   "outputs": [
    {
     "data": {
      "text/plain": [
       "0    [295, 6, 3, 82, 2, 45, 2, 12, 131, 166, 46, 2,...\n",
       "1    [124, 430, 132, 353, 2, 18, 2, 2, 8, 55, 2, 55...\n",
       "2    [11, 192, 14, 16, 4, 430, 91, 7, 2, 48, 23, 4,...\n",
       "3    [2, 57, 13, 4, 238, 130, 4, 132, 356, 2, 102, ...\n",
       "4    [2, 2, 13, 2, 2, 9, 3, 2, 6, 2, 2, 8, 4, 2, 2,...\n",
       "Name: review, dtype: object"
      ]
     },
     "execution_count": 440,
     "metadata": {},
     "output_type": "execute_result"
    }
   ],
   "source": [
    "imdb_x.head()"
   ]
  },
  {
   "cell_type": "markdown",
   "metadata": {},
   "source": [
    "#### We want to process the data into NumPy arrays of sequences that are all length 200. We will use these criteria: \n",
    "* We want to add a 1 at the beginning of every review to signal the beginning of the text.\n",
    "* If a given sequence is shorter than 200 tokens we want to pad the beginning of the sequence out with zeros so that the sequence is 200 long. \n",
    "* Else if the sequence is longer than 200 (including the starting 1) we want to cut it down to length 200. \n"
   ]
  },
  {
   "cell_type": "code",
   "execution_count": 441,
   "metadata": {},
   "outputs": [],
   "source": [
    "def process_data(data):\n",
    "    \n",
    "    #YOUR CODE HERE \n",
    "    def proc(lst):\n",
    "        lst.insert(0, 1)\n",
    "        if len(lst) > 200:\n",
    "            lst = lst[0:200]\n",
    "        elif len(lst) < 200:\n",
    "            for i in range(0, 200 - len(lst)):\n",
    "                lst.insert(0,0)\n",
    "        return lst\n",
    "    \n",
    "    processed = data.apply(lambda x: proc(x))\n",
    "    return processed\n",
    "\n",
    "imdb_x = process_data(imdb_x)"
   ]
  },
  {
   "cell_type": "code",
   "execution_count": 442,
   "metadata": {},
   "outputs": [
    {
     "data": {
      "text/plain": [
       "0    [1, 295, 6, 3, 82, 2, 45, 2, 12, 131, 166, 46,...\n",
       "1    [0, 0, 0, 0, 0, 0, 0, 0, 0, 0, 0, 0, 0, 0, 0, ...\n",
       "2    [0, 0, 0, 0, 0, 0, 0, 0, 0, 0, 0, 0, 0, 0, 0, ...\n",
       "3    [0, 0, 0, 0, 0, 0, 0, 0, 0, 0, 0, 0, 0, 0, 0, ...\n",
       "4    [1, 2, 2, 13, 2, 2, 9, 3, 2, 6, 2, 2, 8, 4, 2,...\n",
       "Name: review, dtype: object"
      ]
     },
     "execution_count": 442,
     "metadata": {},
     "output_type": "execute_result"
    }
   ],
   "source": [
    "imdb_x.head()"
   ]
  },
  {
   "cell_type": "markdown",
   "metadata": {},
   "source": [
    "<b> Separate the dataset into train and test sets, test set should be 1/3 of the set.</b> <p>\n",
    "This sklearn method will make your life much easier: \n",
    "[train_test_split](https://scikit-learn.org/stable/modules/generated/sklearn.model_selection.train_test_split.html)"
   ]
  },
  {
   "cell_type": "code",
   "execution_count": 443,
   "metadata": {},
   "outputs": [],
   "source": [
    "## YOUR CODE HERE\n",
    "from sklearn.model_selection import train_test_split\n",
    "\n",
    "#imdb_x = imdb_x.apply(lambda x: np.array(x).astype(np.float32))\n",
    "#imdb_y = imdb_y.apply(lambda y: np.array(y))\n",
    "x = []\n",
    "for i in imdb_x:\n",
    "    sentence = []\n",
    "    for j in i:\n",
    "        sentence.append(j)\n",
    "    x.append(sentence)\n",
    "\n",
    "\n",
    "size = imdb_x.size\n",
    "x_train_proc, x_test_proc, y_train, y_test = train_test_split(np.array(x), np.asarray(imdb_y).astype(np.float32), test_size=round(size/3))\n"
   ]
  },
  {
   "cell_type": "code",
   "execution_count": 444,
   "metadata": {
    "scrolled": true
   },
   "outputs": [
    {
     "name": "stdout",
     "output_type": "stream",
     "text": [
      "(33333, 200)\n",
      "[[  0   0   0 ...   2 341   2]\n",
      " [  0   0   0 ...   2   2   2]\n",
      " [  0   0   0 ...  71   2  58]\n",
      " ...\n",
      " [  1  49   8 ... 616  30   2]\n",
      " [  0   0   0 ... 403   9 467]\n",
      " [  0   1  49 ...  58   3   2]]\n"
     ]
    }
   ],
   "source": [
    "print(x_train_proc.shape)\n",
    "print(x_train_proc)"
   ]
  },
  {
   "cell_type": "markdown",
   "metadata": {},
   "source": [
    "At this point **your job is done!!!** Congratulations, if done correctly, the sentences are processed and ready to be used as features and labels to train a Recurrent Neural Network (LSTM). You will learn how to do this yourself in the next couple weeks. For now, you can just sit back and \"follow along\" as we build this model using Keras and then train it. "
   ]
  },
  {
   "cell_type": "markdown",
   "metadata": {},
   "source": [
    "The first thing we will do is initialize the model using Sequential."
   ]
  },
  {
   "cell_type": "code",
   "execution_count": 445,
   "metadata": {},
   "outputs": [],
   "source": [
    "import keras\n",
    "from keras import Sequential\n",
    "\n",
    "imdb_model = Sequential()"
   ]
  },
  {
   "cell_type": "markdown",
   "metadata": {},
   "source": [
    "Now we want to add an embedding layer. The purpose of an embedding layer is to take a sequence of integers representing words in our case and turn each integer into a dense vector in some embedding space. (This is essentially the idea of Word2Vec https://papers.nips.cc/paper/5021-distributed-representations-of-words-and-phrases-and-their-compositionality.pdf). We want to create an embedding layer with vocab size equal to the max num words we allowed when we loaded the data (in this case 1000), and a fixed dense vector of size 32. Then we have to specify the max length of our sequences and we want to mask out zeros in our sequence since we used zero to pad.\n",
    "Use the docs for embedding layer to fill out the missing entries: https://keras.io/layers/embeddings/"
   ]
  },
  {
   "cell_type": "code",
   "execution_count": 446,
   "metadata": {},
   "outputs": [],
   "source": [
    "from keras.layers.embeddings import Embedding\n",
    "imdb_model.add(Embedding(1000, 32, input_length=200, mask_zero=True))"
   ]
  },
  {
   "cell_type": "markdown",
   "metadata": {},
   "source": [
    "#### **(a)** We add an LSTM layer with 32 outputs, then a Dense layer with 16 neurons, then a relu activation, then a dense layer with 1 neuron, then a sigmoid activation. Then we print out the model summary. The Keras documentation is here: https://keras.io/"
   ]
  },
  {
   "cell_type": "code",
   "execution_count": 447,
   "metadata": {},
   "outputs": [],
   "source": [
    "from keras.layers.recurrent import LSTM\n",
    "from keras.layers import Dense, Activation\n",
    "imdb_model.add(LSTM(32))"
   ]
  },
  {
   "cell_type": "code",
   "execution_count": 448,
   "metadata": {},
   "outputs": [],
   "source": [
    "imdb_model.add(Dense(units=16, activation='relu'))\n",
    "imdb_model.add(Dense(units=1, activation='sigmoid'))"
   ]
  },
  {
   "cell_type": "code",
   "execution_count": 449,
   "metadata": {},
   "outputs": [
    {
     "name": "stdout",
     "output_type": "stream",
     "text": [
      "Model: \"sequential_8\"\n",
      "_________________________________________________________________\n",
      "Layer (type)                 Output Shape              Param #   \n",
      "=================================================================\n",
      "embedding_10 (Embedding)     (None, 200, 32)           32000     \n",
      "_________________________________________________________________\n",
      "lstm_10 (LSTM)               (None, 32)                8320      \n",
      "_________________________________________________________________\n",
      "dense_18 (Dense)             (None, 16)                528       \n",
      "_________________________________________________________________\n",
      "dense_19 (Dense)             (None, 1)                 17        \n",
      "=================================================================\n",
      "Total params: 40,865\n",
      "Trainable params: 40,865\n",
      "Non-trainable params: 0\n",
      "_________________________________________________________________\n"
     ]
    }
   ],
   "source": [
    "imdb_model.summary()"
   ]
  },
  {
   "cell_type": "markdown",
   "metadata": {},
   "source": [
    "#### **(b)** Now we compile the model with binary cross entropy, and the adam optimizer. We include accuracy as a metric in the compile. Then train the model on the processed data."
   ]
  },
  {
   "cell_type": "code",
   "execution_count": 450,
   "metadata": {},
   "outputs": [],
   "source": [
    "imdb_model.compile(loss=keras.losses.binary_crossentropy, optimizer=keras.optimizers.Adam(), metrics=['acc'])"
   ]
  },
  {
   "cell_type": "code",
   "execution_count": 451,
   "metadata": {},
   "outputs": [
    {
     "name": "stdout",
     "output_type": "stream",
     "text": [
      "1042/1042 [==============================] - 168s 145ms/step - loss: 0.5932 - acc: 0.6515\n"
     ]
    },
    {
     "data": {
      "text/plain": [
       "<tensorflow.python.keras.callbacks.History at 0x157bdc7f0>"
      ]
     },
     "execution_count": 451,
     "metadata": {},
     "output_type": "execute_result"
    }
   ],
   "source": [
    "imdb_model.fit(x_train_proc, y_train)"
   ]
  },
  {
   "cell_type": "code",
   "execution_count": 452,
   "metadata": {},
   "outputs": [
    {
     "name": "stdout",
     "output_type": "stream",
     "text": [
      "521/521 [==============================] - ETA: 0s - loss: 0.4511 - acc: 0.794 - 13s 23ms/step - loss: 0.4511 - acc: 0.7946\n",
      "Accuracy:  0.7946240901947021\n"
     ]
    }
   ],
   "source": [
    "print(\"Accuracy: \", imdb_model.evaluate(x_test_proc, y_test)[1])"
   ]
  },
  {
   "cell_type": "markdown",
   "metadata": {},
   "source": [
    "## If you did the data pre-processing correctly you should be getting around an 80% accuracy. congratulations, that is much better than random! \n",
    "<i>If you are getting a test accuracy that is significantly lower, you probably did something wrong, slack your NMEP team or go to office hours to get help sorting it out :) </i>"
   ]
  },
  {
   "cell_type": "markdown",
   "metadata": {},
   "source": [
    "#### Now we can look at our predictions and the sentences they correspond to."
   ]
  },
  {
   "cell_type": "code",
   "execution_count": 453,
   "metadata": {},
   "outputs": [],
   "source": [
    "y_pred = imdb_model.predict(x_test_proc)"
   ]
  },
  {
   "cell_type": "code",
   "execution_count": 454,
   "metadata": {},
   "outputs": [],
   "source": [
    "word_to_id = wordCounter\n",
    "word_to_id[\"<PAD>\"] = 0\n",
    "word_to_id[\"<START>\"] = 1\n",
    "word_to_id[\"<UNK>\"] = 2\n",
    "\n",
    "id_to_word = {value:key for key,value in word_to_id.items() if value < 2000}\n",
    "def get_words(token_sequence):\n",
    "    return ' '.join(id_to_word[token] for token in token_sequence)\n",
    "\n",
    "def get_sentiment(y_pred, index):\n",
    "    return 'Positive' if y_pred[index] else 'Negative'"
   ]
  },
  {
   "cell_type": "code",
   "execution_count": 455,
   "metadata": {},
   "outputs": [],
   "source": [
    "y_test = [i for i in y_test]\n",
    "y_pred = np.vectorize(lambda x: int(x >= 0.5))(y_pred)\n",
    "correct = []\n",
    "incorrect = []\n",
    "for i, pred in enumerate(y_pred):\n",
    "    if y_test[i] == pred:\n",
    "        correct.append(i)\n",
    "    else:\n",
    "        incorrect.append(i)"
   ]
  },
  {
   "cell_type": "markdown",
   "metadata": {},
   "source": [
    "#### Now we print out one of the sequences we got correct."
   ]
  },
  {
   "cell_type": "code",
   "execution_count": 456,
   "metadata": {},
   "outputs": [
    {
     "name": "stdout",
     "output_type": "stream",
     "text": [
      "Positive\n",
      "<START> This show really is the <UNK> American <UNK> It ha <UNK> <UNK> the British <UNK> <UNK> A guy who s sometimes nice <UNK> and a <UNK> woman Of course it is different because there is a <UNK> <UNK> and there s <UNK> and some acting we just don t see some of the acting <UNK> I gave this show a <UNK> because there are a couple <UNK> that I know a lot of people including <UNK> make if they were working for the show The first thing that really need to be <UNK> is the <UNK> <UNK> who go home I know they want to find the right <UNK> and <UNK> <UNK> but America should have the power to <UNK> who doe home There s really no point to the <UNK> The person with the <UNK> number of <UNK> usually go home anyway Another thing I d change is to see them actually act on the show What s <UNK> without the acting The last thing that need to be <UNK> is the song the <UNK> people <UNK> at the end The <UNK> <UNK> always <UNK> the same song and the <UNK> <UNK> always <UNK> the same song a\n"
     ]
    }
   ],
   "source": [
    "print(get_sentiment(y_pred, correct[10]))\n",
    "print(get_words(x_test_proc[correct[10]]))"
   ]
  },
  {
   "cell_type": "markdown",
   "metadata": {},
   "source": [
    "#### And one we got wrong."
   ]
  },
  {
   "cell_type": "code",
   "execution_count": 457,
   "metadata": {},
   "outputs": [
    {
     "name": "stdout",
     "output_type": "stream",
     "text": [
      "Positive\n",
      "<PAD> <PAD> <PAD> <PAD> <PAD> <PAD> <PAD> <PAD> <PAD> <PAD> <PAD> <PAD> <PAD> <PAD> <PAD> <PAD> <PAD> <PAD> <PAD> <PAD> <PAD> <PAD> <PAD> <PAD> <PAD> <PAD> <PAD> <PAD> <PAD> <PAD> <PAD> <PAD> <PAD> <PAD> <PAD> <PAD> <PAD> <PAD> <PAD> <PAD> <PAD> <PAD> <PAD> <PAD> <PAD> <PAD> <PAD> <PAD> <PAD> <PAD> <PAD> <PAD> <PAD> <PAD> <PAD> <PAD> <PAD> <PAD> <PAD> <PAD> <PAD> <PAD> <PAD> <PAD> <PAD> <PAD> <PAD> <PAD> <PAD> <PAD> <PAD> <PAD> <PAD> <PAD> <PAD> <PAD> <PAD> <PAD> <PAD> <PAD> <PAD> <PAD> <PAD> <PAD> <PAD> <PAD> <PAD> <PAD> <PAD> <PAD> <PAD> <PAD> <START> <UNK> <UNK> <UNK> <UNK> <UNK> is the movie <UNK> of a <UNK> <UNK> All the character <UNK> from <UNK> s Paul <UNK> <UNK> of course <UNK> <UNK> to be killed <UNK> either a <UNK> <UNK> <UNK> the good guy or a <UNK> <UNK> <UNK> the villain The director simply <UNK> on the <UNK> violence people even get <UNK> <UNK> and <UNK> up <UNK> <UNK> this into an <UNK> version of <UNK> <UNK> <UNK> and <UNK> <UNK> like <UNK> <UNK> <UNK> <UNK> to <UNK> himself from the <UNK> <UNK> <UNK> of this short of thing and <UNK> apparently <UNK> there are many will enjoy it <UNK> <UNK> <UNK>\n"
     ]
    }
   ],
   "source": [
    "print(get_sentiment(y_pred, incorrect[10]))\n",
    "print(get_words(x_test_proc[incorrect[10]]))"
   ]
  },
  {
   "cell_type": "markdown",
   "metadata": {},
   "source": [
    "#### As you can see the amount of UNKNOWN characters in the sequence cause by having only 1000 vocab words is hurting our performance. If you want, go back and increase the number of vocab words to 2000 and compare your accuracy \n",
    "(If you do so, remember to change your embedding parameter from 1000 to 2000 as well; you should get ~85% accuracy). "
   ]
  },
  {
   "cell_type": "markdown",
   "metadata": {
    "collapsed": true
   },
   "source": [
    "## And that's it! Now you should feel like a data engineering/preprocessing expert :) "
   ]
  }
 ],
 "metadata": {
  "kernelspec": {
   "display_name": "Python 3",
   "language": "python",
   "name": "python3"
  },
  "language_info": {
   "codemirror_mode": {
    "name": "ipython",
    "version": 3
   },
   "file_extension": ".py",
   "mimetype": "text/x-python",
   "name": "python",
   "nbconvert_exporter": "python",
   "pygments_lexer": "ipython3",
   "version": "3.8.5"
  }
 },
 "nbformat": 4,
 "nbformat_minor": 2
}
